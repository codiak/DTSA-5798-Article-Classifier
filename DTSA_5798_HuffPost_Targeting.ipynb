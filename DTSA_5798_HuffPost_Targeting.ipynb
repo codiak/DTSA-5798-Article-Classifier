{
  "cells": [
    {
      "cell_type": "markdown",
      "source": [
        "# Ad Segment Classification with Deep Learning\n",
        "Cody Pumper, MSDS Candidate\n",
        "\n",
        "Repository: https://github.com/codiak/DTSA-5798-Article-Classifier\n",
        "\n",
        "*Professor Chris Vargo, DTSA 5798 Supervised Text Classification*\n",
        "\n",
        "## Overview\n",
        "\n",
        "This notebook encompasses the EDA, model training, and validation for a binary classifier using ktrain against a HuffPost article dataset. In this project, I am developing a model for a hypothetical media buying company, to develop a deep learning algorithm for their new client, Theragun. Theragun specializes in products that appeal to health and wellness enthusiasts, and they wish to target their advertisements on web pages that prominently feature health and wellness news.\n",
        "\n",
        "The goal is to build a model that can predict the probability that a given news story is about health and wellness. To achieve this, I will test variations on the model, including using DistilBERT versus BERT as the base model, and experimenting with increasing the size of the n-grams. This notebook steps through the process of creating a replicable model, tuning hyperparameters, and evaluating its performance. By the end, we aim to provide Theragun with a robust tool for effective contextual advertising."
      ],
      "metadata": {
        "id": "jQI3prxb73B4"
      }
    },
    {
      "cell_type": "markdown",
      "source": [
        "### Imports and Requirements"
      ],
      "metadata": {
        "id": "uVEB5ix287xq"
      }
    },
    {
      "cell_type": "code",
      "execution_count": null,
      "metadata": {
        "id": "E3mJdxaaXVpc"
      },
      "outputs": [],
      "source": [
        "!pip install tf_keras\n",
        "import os\n",
        "os.environ['TF_USE_LEGACY_KERAS'] = 'True'\n",
        "try:\n",
        "  import ktrain\n",
        "except:\n",
        "  !pip install ktrain\n",
        "  os.kill(os.getpid(), 9)\n",
        "import ktrain\n",
        "import pandas as pd\n",
        "import numpy as np"
      ]
    },
    {
      "cell_type": "code",
      "execution_count": 2,
      "metadata": {
        "colab": {
          "base_uri": "https://localhost:8080/"
        },
        "id": "vRJOSUdbmmKu",
        "outputId": "f0855482-0361-4f9e-ecf7-35f33c4cf90d"
      },
      "outputs": [
        {
          "output_type": "stream",
          "name": "stdout",
          "text": [
            "Thu Jun  6 22:56:53 2024       \n",
            "+---------------------------------------------------------------------------------------+\n",
            "| NVIDIA-SMI 535.104.05             Driver Version: 535.104.05   CUDA Version: 12.2     |\n",
            "|-----------------------------------------+----------------------+----------------------+\n",
            "| GPU  Name                 Persistence-M | Bus-Id        Disp.A | Volatile Uncorr. ECC |\n",
            "| Fan  Temp   Perf          Pwr:Usage/Cap |         Memory-Usage | GPU-Util  Compute M. |\n",
            "|                                         |                      |               MIG M. |\n",
            "|=========================================+======================+======================|\n",
            "|   0  NVIDIA L4                      Off | 00000000:00:03.0 Off |                    0 |\n",
            "| N/A   41C    P8              12W /  72W |      1MiB / 23034MiB |      0%      Default |\n",
            "|                                         |                      |                  N/A |\n",
            "+-----------------------------------------+----------------------+----------------------+\n",
            "                                                                                         \n",
            "+---------------------------------------------------------------------------------------+\n",
            "| Processes:                                                                            |\n",
            "|  GPU   GI   CI        PID   Type   Process name                            GPU Memory |\n",
            "|        ID   ID                                                             Usage      |\n",
            "|=======================================================================================|\n",
            "|  No running processes found                                                           |\n",
            "+---------------------------------------------------------------------------------------+\n"
          ]
        }
      ],
      "source": [
        "# check for GPU\n",
        "gpu_info = !nvidia-smi\n",
        "gpu_info = '\\n'.join(gpu_info)\n",
        "if gpu_info.find('failed') >= 0:\n",
        "  print('Not connected to a GPU')\n",
        "else:\n",
        "  print(gpu_info)"
      ]
    },
    {
      "cell_type": "markdown",
      "metadata": {
        "id": "uLUm9gfRX8qH"
      },
      "source": [
        "## Load Data"
      ]
    },
    {
      "cell_type": "markdown",
      "source": [
        "The HuffPost article dataset is a collection of metadata for articles spanning 2013 to 2018. While it does not include the full article text, the headline and description should provide sufficient context. It was provided to the class as in JSON format, and can be found in this project's repository."
      ],
      "metadata": {
        "id": "8E-rNiwq9Fom"
      }
    },
    {
      "cell_type": "code",
      "execution_count": 3,
      "metadata": {
        "colab": {
          "base_uri": "https://localhost:8080/"
        },
        "id": "pmILrVfVX3Bb",
        "outputId": "f9d96886-0785-434d-9e08-cfe829aa832d"
      },
      "outputs": [
        {
          "output_type": "stream",
          "name": "stdout",
          "text": [
            "Mounted at /content/drive\n"
          ]
        }
      ],
      "source": [
        "from google.colab import drive\n",
        "drive.mount('/content/drive')"
      ]
    },
    {
      "cell_type": "code",
      "execution_count": 4,
      "metadata": {
        "id": "OJZWQ7DEYCrW"
      },
      "outputs": [],
      "source": [
        "reviews = pd.read_json(\"/content/drive/MyDrive/MSDS_marketing_text_analytics/article_categories.json\")"
      ]
    },
    {
      "cell_type": "code",
      "execution_count": 5,
      "metadata": {
        "colab": {
          "base_uri": "https://localhost:8080/",
          "height": 293
        },
        "id": "ZzALzX_SYQRE",
        "outputId": "1f6c33f5-bf38-430e-b373-5e9c395dfadb"
      },
      "outputs": [
        {
          "output_type": "execute_result",
          "data": {
            "text/plain": [
              "        category                                           headline  \\\n",
              "0          CRIME  There Were 2 Mass Shootings In Texas Last Week...   \n",
              "1  ENTERTAINMENT  Will Smith Joins Diplo And Nicky Jam For The 2...   \n",
              "2  ENTERTAINMENT    Hugh Grant Marries For The First Time At Age 57   \n",
              "3  ENTERTAINMENT  Jim Carrey Blasts 'Castrato' Adam Schiff And D...   \n",
              "4  ENTERTAINMENT  Julianna Margulies Uses Donald Trump Poop Bags...   \n",
              "\n",
              "           authors                                               link  \\\n",
              "0  Melissa Jeltsen  https://www.huffingtonpost.com/entry/texas-ama...   \n",
              "1    Andy McDonald  https://www.huffingtonpost.com/entry/will-smit...   \n",
              "2       Ron Dicker  https://www.huffingtonpost.com/entry/hugh-gran...   \n",
              "3       Ron Dicker  https://www.huffingtonpost.com/entry/jim-carre...   \n",
              "4       Ron Dicker  https://www.huffingtonpost.com/entry/julianna-...   \n",
              "\n",
              "                                   short_description       date  \n",
              "0  She left her husband. He killed their children... 2018-05-26  \n",
              "1                           Of course it has a song. 2018-05-26  \n",
              "2  The actor and his longtime girlfriend Anna Ebe... 2018-05-26  \n",
              "3  The actor gives Dems an ass-kicking for not fi... 2018-05-26  \n",
              "4  The \"Dietland\" actress said using the bags is ... 2018-05-26  "
            ],
            "text/html": [
              "\n",
              "  <div id=\"df-bbcb529d-0a71-460b-90a8-bbfbfa7947d4\" class=\"colab-df-container\">\n",
              "    <div>\n",
              "<style scoped>\n",
              "    .dataframe tbody tr th:only-of-type {\n",
              "        vertical-align: middle;\n",
              "    }\n",
              "\n",
              "    .dataframe tbody tr th {\n",
              "        vertical-align: top;\n",
              "    }\n",
              "\n",
              "    .dataframe thead th {\n",
              "        text-align: right;\n",
              "    }\n",
              "</style>\n",
              "<table border=\"1\" class=\"dataframe\">\n",
              "  <thead>\n",
              "    <tr style=\"text-align: right;\">\n",
              "      <th></th>\n",
              "      <th>category</th>\n",
              "      <th>headline</th>\n",
              "      <th>authors</th>\n",
              "      <th>link</th>\n",
              "      <th>short_description</th>\n",
              "      <th>date</th>\n",
              "    </tr>\n",
              "  </thead>\n",
              "  <tbody>\n",
              "    <tr>\n",
              "      <th>0</th>\n",
              "      <td>CRIME</td>\n",
              "      <td>There Were 2 Mass Shootings In Texas Last Week...</td>\n",
              "      <td>Melissa Jeltsen</td>\n",
              "      <td>https://www.huffingtonpost.com/entry/texas-ama...</td>\n",
              "      <td>She left her husband. He killed their children...</td>\n",
              "      <td>2018-05-26</td>\n",
              "    </tr>\n",
              "    <tr>\n",
              "      <th>1</th>\n",
              "      <td>ENTERTAINMENT</td>\n",
              "      <td>Will Smith Joins Diplo And Nicky Jam For The 2...</td>\n",
              "      <td>Andy McDonald</td>\n",
              "      <td>https://www.huffingtonpost.com/entry/will-smit...</td>\n",
              "      <td>Of course it has a song.</td>\n",
              "      <td>2018-05-26</td>\n",
              "    </tr>\n",
              "    <tr>\n",
              "      <th>2</th>\n",
              "      <td>ENTERTAINMENT</td>\n",
              "      <td>Hugh Grant Marries For The First Time At Age 57</td>\n",
              "      <td>Ron Dicker</td>\n",
              "      <td>https://www.huffingtonpost.com/entry/hugh-gran...</td>\n",
              "      <td>The actor and his longtime girlfriend Anna Ebe...</td>\n",
              "      <td>2018-05-26</td>\n",
              "    </tr>\n",
              "    <tr>\n",
              "      <th>3</th>\n",
              "      <td>ENTERTAINMENT</td>\n",
              "      <td>Jim Carrey Blasts 'Castrato' Adam Schiff And D...</td>\n",
              "      <td>Ron Dicker</td>\n",
              "      <td>https://www.huffingtonpost.com/entry/jim-carre...</td>\n",
              "      <td>The actor gives Dems an ass-kicking for not fi...</td>\n",
              "      <td>2018-05-26</td>\n",
              "    </tr>\n",
              "    <tr>\n",
              "      <th>4</th>\n",
              "      <td>ENTERTAINMENT</td>\n",
              "      <td>Julianna Margulies Uses Donald Trump Poop Bags...</td>\n",
              "      <td>Ron Dicker</td>\n",
              "      <td>https://www.huffingtonpost.com/entry/julianna-...</td>\n",
              "      <td>The \"Dietland\" actress said using the bags is ...</td>\n",
              "      <td>2018-05-26</td>\n",
              "    </tr>\n",
              "  </tbody>\n",
              "</table>\n",
              "</div>\n",
              "    <div class=\"colab-df-buttons\">\n",
              "\n",
              "  <div class=\"colab-df-container\">\n",
              "    <button class=\"colab-df-convert\" onclick=\"convertToInteractive('df-bbcb529d-0a71-460b-90a8-bbfbfa7947d4')\"\n",
              "            title=\"Convert this dataframe to an interactive table.\"\n",
              "            style=\"display:none;\">\n",
              "\n",
              "  <svg xmlns=\"http://www.w3.org/2000/svg\" height=\"24px\" viewBox=\"0 -960 960 960\">\n",
              "    <path d=\"M120-120v-720h720v720H120Zm60-500h600v-160H180v160Zm220 220h160v-160H400v160Zm0 220h160v-160H400v160ZM180-400h160v-160H180v160Zm440 0h160v-160H620v160ZM180-180h160v-160H180v160Zm440 0h160v-160H620v160Z\"/>\n",
              "  </svg>\n",
              "    </button>\n",
              "\n",
              "  <style>\n",
              "    .colab-df-container {\n",
              "      display:flex;\n",
              "      gap: 12px;\n",
              "    }\n",
              "\n",
              "    .colab-df-convert {\n",
              "      background-color: #E8F0FE;\n",
              "      border: none;\n",
              "      border-radius: 50%;\n",
              "      cursor: pointer;\n",
              "      display: none;\n",
              "      fill: #1967D2;\n",
              "      height: 32px;\n",
              "      padding: 0 0 0 0;\n",
              "      width: 32px;\n",
              "    }\n",
              "\n",
              "    .colab-df-convert:hover {\n",
              "      background-color: #E2EBFA;\n",
              "      box-shadow: 0px 1px 2px rgba(60, 64, 67, 0.3), 0px 1px 3px 1px rgba(60, 64, 67, 0.15);\n",
              "      fill: #174EA6;\n",
              "    }\n",
              "\n",
              "    .colab-df-buttons div {\n",
              "      margin-bottom: 4px;\n",
              "    }\n",
              "\n",
              "    [theme=dark] .colab-df-convert {\n",
              "      background-color: #3B4455;\n",
              "      fill: #D2E3FC;\n",
              "    }\n",
              "\n",
              "    [theme=dark] .colab-df-convert:hover {\n",
              "      background-color: #434B5C;\n",
              "      box-shadow: 0px 1px 3px 1px rgba(0, 0, 0, 0.15);\n",
              "      filter: drop-shadow(0px 1px 2px rgba(0, 0, 0, 0.3));\n",
              "      fill: #FFFFFF;\n",
              "    }\n",
              "  </style>\n",
              "\n",
              "    <script>\n",
              "      const buttonEl =\n",
              "        document.querySelector('#df-bbcb529d-0a71-460b-90a8-bbfbfa7947d4 button.colab-df-convert');\n",
              "      buttonEl.style.display =\n",
              "        google.colab.kernel.accessAllowed ? 'block' : 'none';\n",
              "\n",
              "      async function convertToInteractive(key) {\n",
              "        const element = document.querySelector('#df-bbcb529d-0a71-460b-90a8-bbfbfa7947d4');\n",
              "        const dataTable =\n",
              "          await google.colab.kernel.invokeFunction('convertToInteractive',\n",
              "                                                    [key], {});\n",
              "        if (!dataTable) return;\n",
              "\n",
              "        const docLinkHtml = 'Like what you see? Visit the ' +\n",
              "          '<a target=\"_blank\" href=https://colab.research.google.com/notebooks/data_table.ipynb>data table notebook</a>'\n",
              "          + ' to learn more about interactive tables.';\n",
              "        element.innerHTML = '';\n",
              "        dataTable['output_type'] = 'display_data';\n",
              "        await google.colab.output.renderOutput(dataTable, element);\n",
              "        const docLink = document.createElement('div');\n",
              "        docLink.innerHTML = docLinkHtml;\n",
              "        element.appendChild(docLink);\n",
              "      }\n",
              "    </script>\n",
              "  </div>\n",
              "\n",
              "\n",
              "<div id=\"df-af695735-a59f-43e4-91fa-76b1c0bd0280\">\n",
              "  <button class=\"colab-df-quickchart\" onclick=\"quickchart('df-af695735-a59f-43e4-91fa-76b1c0bd0280')\"\n",
              "            title=\"Suggest charts\"\n",
              "            style=\"display:none;\">\n",
              "\n",
              "<svg xmlns=\"http://www.w3.org/2000/svg\" height=\"24px\"viewBox=\"0 0 24 24\"\n",
              "     width=\"24px\">\n",
              "    <g>\n",
              "        <path d=\"M19 3H5c-1.1 0-2 .9-2 2v14c0 1.1.9 2 2 2h14c1.1 0 2-.9 2-2V5c0-1.1-.9-2-2-2zM9 17H7v-7h2v7zm4 0h-2V7h2v10zm4 0h-2v-4h2v4z\"/>\n",
              "    </g>\n",
              "</svg>\n",
              "  </button>\n",
              "\n",
              "<style>\n",
              "  .colab-df-quickchart {\n",
              "      --bg-color: #E8F0FE;\n",
              "      --fill-color: #1967D2;\n",
              "      --hover-bg-color: #E2EBFA;\n",
              "      --hover-fill-color: #174EA6;\n",
              "      --disabled-fill-color: #AAA;\n",
              "      --disabled-bg-color: #DDD;\n",
              "  }\n",
              "\n",
              "  [theme=dark] .colab-df-quickchart {\n",
              "      --bg-color: #3B4455;\n",
              "      --fill-color: #D2E3FC;\n",
              "      --hover-bg-color: #434B5C;\n",
              "      --hover-fill-color: #FFFFFF;\n",
              "      --disabled-bg-color: #3B4455;\n",
              "      --disabled-fill-color: #666;\n",
              "  }\n",
              "\n",
              "  .colab-df-quickchart {\n",
              "    background-color: var(--bg-color);\n",
              "    border: none;\n",
              "    border-radius: 50%;\n",
              "    cursor: pointer;\n",
              "    display: none;\n",
              "    fill: var(--fill-color);\n",
              "    height: 32px;\n",
              "    padding: 0;\n",
              "    width: 32px;\n",
              "  }\n",
              "\n",
              "  .colab-df-quickchart:hover {\n",
              "    background-color: var(--hover-bg-color);\n",
              "    box-shadow: 0 1px 2px rgba(60, 64, 67, 0.3), 0 1px 3px 1px rgba(60, 64, 67, 0.15);\n",
              "    fill: var(--button-hover-fill-color);\n",
              "  }\n",
              "\n",
              "  .colab-df-quickchart-complete:disabled,\n",
              "  .colab-df-quickchart-complete:disabled:hover {\n",
              "    background-color: var(--disabled-bg-color);\n",
              "    fill: var(--disabled-fill-color);\n",
              "    box-shadow: none;\n",
              "  }\n",
              "\n",
              "  .colab-df-spinner {\n",
              "    border: 2px solid var(--fill-color);\n",
              "    border-color: transparent;\n",
              "    border-bottom-color: var(--fill-color);\n",
              "    animation:\n",
              "      spin 1s steps(1) infinite;\n",
              "  }\n",
              "\n",
              "  @keyframes spin {\n",
              "    0% {\n",
              "      border-color: transparent;\n",
              "      border-bottom-color: var(--fill-color);\n",
              "      border-left-color: var(--fill-color);\n",
              "    }\n",
              "    20% {\n",
              "      border-color: transparent;\n",
              "      border-left-color: var(--fill-color);\n",
              "      border-top-color: var(--fill-color);\n",
              "    }\n",
              "    30% {\n",
              "      border-color: transparent;\n",
              "      border-left-color: var(--fill-color);\n",
              "      border-top-color: var(--fill-color);\n",
              "      border-right-color: var(--fill-color);\n",
              "    }\n",
              "    40% {\n",
              "      border-color: transparent;\n",
              "      border-right-color: var(--fill-color);\n",
              "      border-top-color: var(--fill-color);\n",
              "    }\n",
              "    60% {\n",
              "      border-color: transparent;\n",
              "      border-right-color: var(--fill-color);\n",
              "    }\n",
              "    80% {\n",
              "      border-color: transparent;\n",
              "      border-right-color: var(--fill-color);\n",
              "      border-bottom-color: var(--fill-color);\n",
              "    }\n",
              "    90% {\n",
              "      border-color: transparent;\n",
              "      border-bottom-color: var(--fill-color);\n",
              "    }\n",
              "  }\n",
              "</style>\n",
              "\n",
              "  <script>\n",
              "    async function quickchart(key) {\n",
              "      const quickchartButtonEl =\n",
              "        document.querySelector('#' + key + ' button');\n",
              "      quickchartButtonEl.disabled = true;  // To prevent multiple clicks.\n",
              "      quickchartButtonEl.classList.add('colab-df-spinner');\n",
              "      try {\n",
              "        const charts = await google.colab.kernel.invokeFunction(\n",
              "            'suggestCharts', [key], {});\n",
              "      } catch (error) {\n",
              "        console.error('Error during call to suggestCharts:', error);\n",
              "      }\n",
              "      quickchartButtonEl.classList.remove('colab-df-spinner');\n",
              "      quickchartButtonEl.classList.add('colab-df-quickchart-complete');\n",
              "    }\n",
              "    (() => {\n",
              "      let quickchartButtonEl =\n",
              "        document.querySelector('#df-af695735-a59f-43e4-91fa-76b1c0bd0280 button');\n",
              "      quickchartButtonEl.style.display =\n",
              "        google.colab.kernel.accessAllowed ? 'block' : 'none';\n",
              "    })();\n",
              "  </script>\n",
              "</div>\n",
              "\n",
              "    </div>\n",
              "  </div>\n"
            ],
            "application/vnd.google.colaboratory.intrinsic+json": {
              "type": "dataframe",
              "variable_name": "reviews"
            }
          },
          "metadata": {},
          "execution_count": 5
        }
      ],
      "source": [
        "reviews.head()"
      ]
    },
    {
      "cell_type": "markdown",
      "metadata": {
        "id": "cMmznqPHY9tR"
      },
      "source": [
        "## Exploratory Data Analysis"
      ]
    },
    {
      "cell_type": "markdown",
      "source": [
        "The initial exploration of the data focuses on identifying cardinality and balance of the positive samples which are categorized either \"WELLNESS\" or \"HEALTHY LIVING\"."
      ],
      "metadata": {
        "id": "Y9JinOAW9ySO"
      }
    },
    {
      "cell_type": "code",
      "execution_count": null,
      "metadata": {
        "colab": {
          "base_uri": "https://localhost:8080/"
        },
        "id": "jMSwzxhkYd3z",
        "outputId": "58783832-adf1-4508-975d-0e7a79780986"
      },
      "outputs": [
        {
          "output_type": "execute_result",
          "data": {
            "text/plain": [
              "category\n",
              "POLITICS          32739\n",
              "WELLNESS          17827\n",
              "ENTERTAINMENT     16058\n",
              "TRAVEL             9887\n",
              "STYLE & BEAUTY     9649\n",
              "PARENTING          8677\n",
              "HEALTHY LIVING     6694\n",
              "QUEER VOICES       6314\n",
              "FOOD & DRINK       6226\n",
              "BUSINESS           5937\n",
              "COMEDY             5175\n",
              "SPORTS             4884\n",
              "BLACK VOICES       4528\n",
              "HOME & LIVING      4195\n",
              "PARENTS            3955\n",
              "THE WORLDPOST      3664\n",
              "WEDDINGS           3651\n",
              "WOMEN              3490\n",
              "IMPACT             3459\n",
              "DIVORCE            3426\n",
              "CRIME              3405\n",
              "MEDIA              2815\n",
              "WEIRD NEWS         2670\n",
              "GREEN              2622\n",
              "WORLDPOST          2579\n",
              "RELIGION           2556\n",
              "STYLE              2254\n",
              "SCIENCE            2178\n",
              "WORLD NEWS         2177\n",
              "TASTE              2096\n",
              "TECH               2082\n",
              "MONEY              1707\n",
              "ARTS               1509\n",
              "FIFTY              1401\n",
              "GOOD NEWS          1398\n",
              "ARTS & CULTURE     1339\n",
              "ENVIRONMENT        1323\n",
              "COLLEGE            1144\n",
              "LATINO VOICES      1129\n",
              "CULTURE & ARTS     1030\n",
              "EDUCATION          1004\n",
              "Name: count, dtype: int64"
            ]
          },
          "metadata": {},
          "execution_count": 6
        }
      ],
      "source": [
        "reviews['category'].value_counts()"
      ]
    },
    {
      "cell_type": "markdown",
      "source": [
        "With counts ranging from 1004 to 32,739, we can see the dataset skews heavily towards samples from the \"Politics\" category, which makes sense given HuffPost's coverage. There are a large number of categories, and quite a few articles to represent each. The target categories include 17,827 articles and 6,694 articles, which is enough for us to produce a successful deep learning model."
      ],
      "metadata": {
        "id": "xVsP1UJ7-HuW"
      }
    },
    {
      "cell_type": "code",
      "execution_count": 6,
      "metadata": {
        "colab": {
          "base_uri": "https://localhost:8080/"
        },
        "id": "gsnlyCzGaMMi",
        "outputId": "db869dc4-d55c-4c2e-ca67-8128c1190634"
      },
      "outputs": [
        {
          "output_type": "execute_result",
          "data": {
            "text/plain": [
              "count    200853.000000\n",
              "mean          0.122084\n",
              "std           0.327384\n",
              "min           0.000000\n",
              "25%           0.000000\n",
              "50%           0.000000\n",
              "75%           0.000000\n",
              "max           1.000000\n",
              "Name: health-wellness, dtype: float64"
            ]
          },
          "metadata": {},
          "execution_count": 6
        }
      ],
      "source": [
        "reviews['health-wellness'] = np.where(reviews['category'].isin(['HEALTHY LIVING', 'WELLNESS']), 1, 0)\n",
        "reviews['health-wellness'].describe()"
      ]
    },
    {
      "cell_type": "markdown",
      "metadata": {
        "id": "NhbQzWMDZJt9"
      },
      "source": [
        "Since this project is focusing on identifying health or wellness articles, I have added a column to represent the response as 1 or 0, 1 being a positive sample.\n",
        "\n",
        "Based on the distribution of this column, our dataset includes about 12% positive examples and 88% negative examples. I will later balance this for quicker training and to avoid skewing the evaluation metrics such as accuracy.\n",
        "\n",
        "### Checking for potential data cleaning"
      ]
    },
    {
      "cell_type": "code",
      "execution_count": null,
      "metadata": {
        "colab": {
          "base_uri": "https://localhost:8080/"
        },
        "id": "0xMgV3-fZGpG",
        "outputId": "d059e12e-385f-4bef-d1e1-8e606e58473d"
      },
      "outputs": [
        {
          "output_type": "execute_result",
          "data": {
            "text/plain": [
              "category             0\n",
              "headline             0\n",
              "authors              0\n",
              "link                 0\n",
              "short_description    0\n",
              "date                 0\n",
              "health-wellness      0\n",
              "dtype: int64"
            ]
          },
          "metadata": {},
          "execution_count": 8
        }
      ],
      "source": [
        "reviews.isnull().sum()"
      ]
    },
    {
      "cell_type": "code",
      "execution_count": null,
      "metadata": {
        "colab": {
          "base_uri": "https://localhost:8080/"
        },
        "id": "cp_uDZ1aZjKH",
        "outputId": "05a292e6-737d-4e76-b56a-759369c3ad25"
      },
      "outputs": [
        {
          "output_type": "execute_result",
          "data": {
            "text/plain": [
              "count    200853.000000\n",
              "mean        114.312686\n",
              "std          82.288156\n",
              "min           0.000000\n",
              "25%          57.000000\n",
              "50%         120.000000\n",
              "75%         133.000000\n",
              "max        1472.000000\n",
              "Name: short_description, dtype: float64"
            ]
          },
          "metadata": {},
          "execution_count": 9
        }
      ],
      "source": [
        "reviews['short_description'].str.len().describe()"
      ]
    },
    {
      "cell_type": "markdown",
      "metadata": {
        "id": "ekzg3Uk-ZoNM"
      },
      "source": [
        "There are no concerning null values to handle. Looking at one of the text columns which will be a strong feature, \"short_description\" can very dramatically in length! It might be best to trim the outliers reaching 1,472 chars."
      ]
    },
    {
      "cell_type": "code",
      "execution_count": null,
      "metadata": {
        "colab": {
          "base_uri": "https://localhost:8080/",
          "height": 489
        },
        "id": "8McpTzKnZzLN",
        "outputId": "2885d141-3586-4a62-8bcc-06340221a578"
      },
      "outputs": [
        {
          "data": {
            "text/plain": [
              "<Axes: xlabel='year'>"
            ]
          },
          "execution_count": 12,
          "metadata": {},
          "output_type": "execute_result"
        },
        {
          "data": {
            "image/png": "[encoded data removed]",
            "text/plain": [
              "<Figure size 640x480 with 1 Axes>"
            ]
          },
          "metadata": {},
          "output_type": "display_data"
        }
      ],
      "source": [
        "reviews['year'] = pd.to_datetime(reviews['date']).dt.year\n",
        "reviews['year'].value_counts().plot(kind='bar')"
      ]
    },
    {
      "cell_type": "markdown",
      "source": [
        "Looking at the distribution of when the articles were published is useful for understanding the context of the data. In terms of productionizing and using the model developed here, there might be issues with data drift when working with current article metadata, as the data we are training one is 5+ years old."
      ],
      "metadata": {
        "id": "VDzM4UF5_Slz"
      }
    },
    {
      "cell_type": "markdown",
      "metadata": {
        "id": "cDDdtWk2Oerf"
      },
      "source": [
        "## Data Preprocessing\n",
        "\n",
        "The text needs to be processed into tokens that are usable by a model. To do this, I will be using a convenience function from Ktrain that prepares the text based on the target model."
      ]
    },
    {
      "cell_type": "code",
      "execution_count": null,
      "metadata": {
        "colab": {
          "base_uri": "https://localhost:8080/"
        },
        "id": "70T7gBjznq2a",
        "outputId": "8deed31a-0de8-4a67-859e-92a08cee1cd2"
      },
      "outputs": [
        {
          "output_type": "execute_result",
          "data": {
            "text/plain": [
              "category             24521\n",
              "headline             24521\n",
              "authors              24521\n",
              "link                 24521\n",
              "short_description    24521\n",
              "date                 24521\n",
              "health-wellness      24521\n",
              "dtype: int64"
            ]
          },
          "metadata": {},
          "execution_count": 8
        }
      ],
      "source": [
        "reviews[reviews['health-wellness'] == 1].count()"
      ]
    },
    {
      "cell_type": "markdown",
      "source": [
        "Sampling the data in order to balance the dataset, and reduce the size."
      ],
      "metadata": {
        "id": "OUVdL6pA_y4c"
      }
    },
    {
      "cell_type": "code",
      "execution_count": 7,
      "metadata": {
        "id": "ZERBNUoVmzam"
      },
      "outputs": [],
      "source": [
        "sample_amount = 10000\n",
        "positive = reviews[reviews['health-wellness'] == 1].sample(n=sample_amount)\n",
        "negative = reviews[reviews['health-wellness'] == 0].sample(n=sample_amount)\n",
        "reviews_subset = pd.concat([positive,negative])\n",
        "# shuffle after concatenating\n",
        "reviews_subset = reviews_subset.sample(frac=1).reset_index(drop=True)"
      ]
    },
    {
      "cell_type": "markdown",
      "metadata": {
        "id": "niWSXzCamz1m"
      },
      "source": [
        "Prepare the text for Distillbert tokenization."
      ]
    },
    {
      "cell_type": "code",
      "execution_count": 8,
      "metadata": {
        "id": "iiOQ_eCqPCIC"
      },
      "outputs": [],
      "source": [
        "# Include headline, and trim excessively long descriptions\n",
        "# Truncate 'short_description' to be no longer than 512 characters\n",
        "reviews_subset['short_description'] = reviews_subset['short_description'].str.slice(0, 512)\n",
        "reviews_subset['text'] = reviews_subset['headline'] + ' ' + reviews_subset['short_description']"
      ]
    },
    {
      "cell_type": "code",
      "execution_count": null,
      "metadata": {
        "colab": {
          "base_uri": "https://localhost:8080/",
          "height": 786,
          "referenced_widgets": [
            "c68bc6d781274e8da993fb7999b53587",
            "29cace2defe14782b63e810349eb7752",
            "3d447284343e41d68b53c06a20bec4f5",
            "c7553f2fb6564a3e946b3252ae88dc5f",
            "08e2f51c7c054eb8b002019b4a430872",
            "6a55bdfb405642e48a3ce55f3a9ec1e9",
            "87679a5d63f64520a0acdf37a9ba6961",
            "cef272f1c14c400eadd80735ae408220",
            "b8d3ca1f093d4eb78491700d61561e51",
            "e6cbcfefd396455b8124b03590a46dc4",
            "883b912e26b7497da9c1f4867e000170",
            "c8b63948d59e46a1adabe092a887e942",
            "c823607dc5c1476993126d4c3ff2ba63",
            "d52510fba4c84ebc8038d036c03dad3c",
            "f24bf56c079b4b3ca7ee2b0b3e499428",
            "2207079e25f747b98352cf7b4fe4b578",
            "7283cda8d35146babcc7d471d530defb",
            "e159e686c29f4f2f85addf413bf7222b",
            "d1eca8f5831d44aeaabc620c5a584976",
            "f84e75eaa4a944138935f8db23122a72",
            "ce87bc9c740447c4b5dd01734f8748a4",
            "af383ac6491444ba92cbebc8c61ffa01",
            "57bc6e271cea40cc99ec42ec6c6d283a",
            "6104c041a7d64f7cbca9c9a872c987f4",
            "10ad5c413f7f438cb3655f8244c237e5",
            "bb91acebd8d248bf8cd7caf25a9421cd",
            "b901616c4f2344a79fffe93bb8681229",
            "5f43aea2c6f34160b2c7dafd529c4994",
            "62086d4ee61f445a92d9f7f86e5d4069",
            "9695e44c0b9b48d68b758c760d920e03",
            "db47653994d24d32a8233e293ea8f23c",
            "53ce6c0a89144173acb2d2dd6d9e5c78",
            "82b9417d60534a039123be2c2edc45e3",
            "a7d86ea1d45b42518d58fa77c9730b31",
            "7acccd10e7a14ab0bac166d9a8878008",
            "b1c360849a1b4bc59342dfc1c73661ef",
            "c12c7711c7a942998618e75ef4754dc5",
            "4e8ac2012fb44c85a9766091df622af3",
            "87eeff506ec04d9fbee4093539073869",
            "49b9bc3ecbbf4790a170cdb33acf472c",
            "13e839c23f484217a100bc815d3e1999",
            "4770491947dc4091911c76c3ee54bbb2",
            "9f16549a145945ec97f6a6c92dc0612b",
            "7d645907fee24a2998698cf4b4a5f030",
            "794777f3e7c54618a7ff7d7e33a4d2d9",
            "be4ba1f42ce64113931d01233c1c4ffb",
            "d307887ad01f4f1cbf627d7bd4701a8f",
            "ab6b6a3458a6419295bfaf77489a77f6",
            "02f960549e7942bf81ebd60fab61acb5",
            "922a7782ed54464b8a2ac62ace6babf8",
            "722f8040d4bd4b7398f7a064cc9cece0",
            "aeb9a5e29f0546c6b7a6d441c41a2e3e",
            "902f9f15a5e042e2b7e056a088afd0db",
            "b3419d0c5de24ef69eaa3859c98abb4d",
            "7b7d97485b09453cbf442170bbf50955"
          ]
        },
        "id": "5bzTFS1xOzFS",
        "outputId": "f885ff09-989b-4f42-d870-b7e4f14a1aea"
      },
      "outputs": [
        {
          "output_type": "stream",
          "name": "stdout",
          "text": [
            "['not_health-wellness', 'health-wellness']\n",
            "       not_health-wellness  health-wellness\n",
            "19564                  0.0              1.0\n",
            "5143                   0.0              1.0\n",
            "9432                   1.0              0.0\n",
            "3715                   1.0              0.0\n",
            "20                     0.0              1.0\n",
            "['not_health-wellness', 'health-wellness']\n",
            "       not_health-wellness  health-wellness\n",
            "10308                  1.0              0.0\n",
            "16542                  1.0              0.0\n",
            "17624                  0.0              1.0\n",
            "6781                   1.0              0.0\n",
            "14542                  0.0              1.0\n"
          ]
        },
        {
          "output_type": "stream",
          "name": "stderr",
          "text": [
            "/usr/local/lib/python3.10/dist-packages/huggingface_hub/utils/_token.py:89: UserWarning: \n",
            "The secret `HF_TOKEN` does not exist in your Colab secrets.\n",
            "To authenticate with the Hugging Face Hub, create a token in your settings tab (https://huggingface.co/settings/tokens), set it as secret in your Google Colab and restart your session.\n",
            "You will be able to reuse this secret in all of your notebooks.\n",
            "Please note that authentication is recommended but still optional to access public models or datasets.\n",
            "  warnings.warn(\n"
          ]
        },
        {
          "output_type": "display_data",
          "data": {
            "text/plain": [
              "config.json:   0%|          | 0.00/483 [00:00<?, ?B/s]"
            ],
            "application/vnd.jupyter.widget-view+json": {
              "version_major": 2,
              "version_minor": 0,
              "model_id": "c68bc6d781274e8da993fb7999b53587"
            }
          },
          "metadata": {}
        },
        {
          "output_type": "display_data",
          "data": {
            "text/plain": [
              "model.safetensors:   0%|          | 0.00/268M [00:00<?, ?B/s]"
            ],
            "application/vnd.jupyter.widget-view+json": {
              "version_major": 2,
              "version_minor": 0,
              "model_id": "c8b63948d59e46a1adabe092a887e942"
            }
          },
          "metadata": {}
        },
        {
          "output_type": "stream",
          "name": "stdout",
          "text": [
            "preprocessing train...\n",
            "language: en\n",
            "train sequence lengths:\n",
            "\tmean : 32\n",
            "\t95percentile : 58\n",
            "\t99percentile : 68\n"
          ]
        },
        {
          "output_type": "display_data",
          "data": {
            "text/plain": [
              "tokenizer_config.json:   0%|          | 0.00/48.0 [00:00<?, ?B/s]"
            ],
            "application/vnd.jupyter.widget-view+json": {
              "version_major": 2,
              "version_minor": 0,
              "model_id": "57bc6e271cea40cc99ec42ec6c6d283a"
            }
          },
          "metadata": {}
        },
        {
          "output_type": "display_data",
          "data": {
            "text/plain": [
              "vocab.txt:   0%|          | 0.00/232k [00:00<?, ?B/s]"
            ],
            "application/vnd.jupyter.widget-view+json": {
              "version_major": 2,
              "version_minor": 0,
              "model_id": "a7d86ea1d45b42518d58fa77c9730b31"
            }
          },
          "metadata": {}
        },
        {
          "output_type": "display_data",
          "data": {
            "text/plain": [
              "tokenizer.json:   0%|          | 0.00/466k [00:00<?, ?B/s]"
            ],
            "application/vnd.jupyter.widget-view+json": {
              "version_major": 2,
              "version_minor": 0,
              "model_id": "794777f3e7c54618a7ff7d7e33a4d2d9"
            }
          },
          "metadata": {}
        },
        {
          "output_type": "display_data",
          "data": {
            "text/plain": [
              "<IPython.core.display.HTML object>"
            ],
            "text/html": [
              "\n",
              "<style>\n",
              "    /* Turns off some styling */\n",
              "    progress {\n",
              "        /* gets rid of default border in Firefox and Opera. */\n",
              "        border: none;\n",
              "        /* Needs to be in here for Safari polyfill so background images work as expected. */\n",
              "        background-size: auto;\n",
              "    }\n",
              "    progress:not([value]), progress:not([value])::-webkit-progress-bar {\n",
              "        background: repeating-linear-gradient(45deg, #7e7e7e, #7e7e7e 10px, #5c5c5c 10px, #5c5c5c 20px);\n",
              "    }\n",
              "    .progress-bar-interrupted, .progress-bar-interrupted::-webkit-progress-bar {\n",
              "        background: #F44336;\n",
              "    }\n",
              "</style>\n"
            ]
          },
          "metadata": {}
        },
        {
          "output_type": "display_data",
          "data": {
            "text/plain": [
              "<IPython.core.display.HTML object>"
            ],
            "text/html": []
          },
          "metadata": {}
        },
        {
          "output_type": "stream",
          "name": "stdout",
          "text": [
            "Is Multi-Label? False\n",
            "preprocessing test...\n",
            "language: en\n",
            "test sequence lengths:\n",
            "\tmean : 32\n",
            "\t95percentile : 58\n",
            "\t99percentile : 68\n"
          ]
        },
        {
          "output_type": "display_data",
          "data": {
            "text/plain": [
              "<IPython.core.display.HTML object>"
            ],
            "text/html": [
              "\n",
              "<style>\n",
              "    /* Turns off some styling */\n",
              "    progress {\n",
              "        /* gets rid of default border in Firefox and Opera. */\n",
              "        border: none;\n",
              "        /* Needs to be in here for Safari polyfill so background images work as expected. */\n",
              "        background-size: auto;\n",
              "    }\n",
              "    progress:not([value]), progress:not([value])::-webkit-progress-bar {\n",
              "        background: repeating-linear-gradient(45deg, #7e7e7e, #7e7e7e 10px, #5c5c5c 10px, #5c5c5c 20px);\n",
              "    }\n",
              "    .progress-bar-interrupted, .progress-bar-interrupted::-webkit-progress-bar {\n",
              "        background: #F44336;\n",
              "    }\n",
              "</style>\n"
            ]
          },
          "metadata": {}
        },
        {
          "output_type": "display_data",
          "data": {
            "text/plain": [
              "<IPython.core.display.HTML object>"
            ],
            "text/html": []
          },
          "metadata": {}
        }
      ],
      "source": [
        "train, val, preprocess = ktrain.text.texts_from_df(\n",
        "    reviews_subset,\n",
        "    \"text\",\n",
        "    label_columns=[\"health-wellness\"],\n",
        "    val_df=None,\n",
        "    max_features=20000,\n",
        "    maxlen=512,\n",
        "    val_pct=0.1,\n",
        "    ngram_range=1,\n",
        "    preprocess_mode=\"distilbert\",\n",
        "    verbose=1\n",
        ")"
      ]
    },
    {
      "cell_type": "code",
      "execution_count": null,
      "metadata": {
        "id": "l7jv_3L2P-4a"
      },
      "outputs": [],
      "source": [
        "model = preprocess.get_classifier()\n",
        "learner = ktrain.get_learner(model, train_data=train, val_data=val, batch_size=64)"
      ]
    },
    {
      "cell_type": "code",
      "execution_count": null,
      "metadata": {
        "colab": {
          "base_uri": "https://localhost:8080/"
        },
        "id": "VCGnnaOqQBRy",
        "outputId": "c7b241a1-0286-4b8c-daba-7179ada06b8e"
      },
      "outputs": [
        {
          "output_type": "stream",
          "name": "stdout",
          "text": [
            "simulating training for different learning rates... this may take a few moments...\n",
            "Epoch 1/6\n",
            "562/562 [==============================] - 271s 402ms/step - loss: 0.6333 - accuracy: 0.6753\n",
            "Epoch 2/6\n",
            "562/562 [==============================] - 229s 408ms/step - loss: 0.2759 - accuracy: 0.8926\n",
            "Epoch 3/6\n",
            "562/562 [==============================] - 228s 406ms/step - loss: 0.3333 - accuracy: 0.8414\n",
            "Epoch 4/6\n",
            "562/562 [==============================] - 227s 404ms/step - loss: 0.6997 - accuracy: 0.4983\n",
            "Epoch 5/6\n",
            "562/562 [==============================] - 226s 401ms/step - loss: 0.6968 - accuracy: 0.4952\n",
            "Epoch 6/6\n",
            "562/562 [==============================] - 58s 102ms/step - loss: 920.1299 - accuracy: 0.4991\n",
            "\n",
            "\n",
            "done.\n",
            "Please invoke the Learner.lr_plot() method to visually inspect the loss plot to help identify the maximal learning rate associated with falling loss.\n"
          ]
        }
      ],
      "source": [
        "learner.lr_find(max_epochs=6)"
      ]
    },
    {
      "cell_type": "markdown",
      "source": [
        "### Determing Learning Rate\n",
        "\n",
        "The function \"lr_find\" is used to search for an efficient learning rate. Since the models developed here are similar, I will use this as a baseline rate across all three."
      ],
      "metadata": {
        "id": "p0Lfd4P4AEv9"
      }
    },
    {
      "cell_type": "code",
      "execution_count": null,
      "metadata": {
        "id": "ZkdG83RvQC48",
        "colab": {
          "base_uri": "https://localhost:8080/",
          "height": 454
        },
        "outputId": "d5a969e7-1383-4552-98a6-20c24c1ba351"
      },
      "outputs": [
        {
          "output_type": "display_data",
          "data": {
            "text/plain": [
              "<Figure size 640x480 with 1 Axes>"
            ],
            "image/png": "[encoded data removed]"
          },
          "metadata": {}
        }
      ],
      "source": [
        "learner.lr_plot()"
      ]
    },
    {
      "cell_type": "code",
      "execution_count": null,
      "metadata": {
        "id": "GsB9SULZQW80",
        "colab": {
          "base_uri": "https://localhost:8080/"
        },
        "outputId": "9b4f373e-1a4d-4e20-dabc-8fd8c886e24d"
      },
      "outputs": [
        {
          "output_type": "stream",
          "name": "stdout",
          "text": [
            "\n",
            "\n",
            "begin training using triangular learning rate policy with max lr of 0.0001...\n",
            "Epoch 1/10\n",
            "282/282 [==============================] - 252s 810ms/step - loss: 0.2915 - accuracy: 0.8840 - val_loss: 0.2237 - val_accuracy: 0.9080\n",
            "Epoch 2/10\n",
            "282/282 [==============================] - ETA: 0s - loss: 0.1403 - accuracy: 0.9499Restoring model weights from the end of the best epoch: 1.\n",
            "282/282 [==============================] - 221s 784ms/step - loss: 0.1403 - accuracy: 0.9499 - val_loss: 0.2275 - val_accuracy: 0.9115\n",
            "Epoch 2: early stopping\n",
            "Weights from best epoch have been loaded into model.\n"
          ]
        }
      ],
      "source": [
        "history=learner.autofit(\n",
        "    1e-4,\n",
        "    checkpoint_folder='checkpoint',\n",
        "    epochs=10,\n",
        "    early_stopping=True\n",
        ")"
      ]
    },
    {
      "cell_type": "code",
      "execution_count": null,
      "metadata": {
        "id": "KO6yeAFwQZE5"
      },
      "outputs": [],
      "source": [
        "predictor = ktrain.get_predictor(learner.model, preproc=preprocess)"
      ]
    },
    {
      "cell_type": "code",
      "execution_count": null,
      "metadata": {
        "id": "l0NCoN8JQbrL",
        "colab": {
          "base_uri": "https://localhost:8080/"
        },
        "outputId": "af925941-6bae-46f1-ddc1-22cda42498af"
      },
      "outputs": [
        {
          "output_type": "stream",
          "name": "stdout",
          "text": [
            "63/63 [==============================] - 6s 40ms/step\n",
            "              precision    recall  f1-score   support\n",
            "\n",
            "           0       0.92      0.89      0.90       979\n",
            "           1       0.90      0.92      0.91      1021\n",
            "\n",
            "    accuracy                           0.91      2000\n",
            "   macro avg       0.91      0.91      0.91      2000\n",
            "weighted avg       0.91      0.91      0.91      2000\n",
            "\n"
          ]
        }
      ],
      "source": [
        "validation = learner.validate(val_data=val, print_report=True)"
      ]
    },
    {
      "cell_type": "markdown",
      "source": [
        "Save model for reproducibility and use:"
      ],
      "metadata": {
        "id": "ifEKd2bWBs3n"
      }
    },
    {
      "cell_type": "code",
      "source": [
        "predictor.save('/content/drive/MyDrive/MSDS_marketing_text_analytics/model-1-distilbert')"
      ],
      "metadata": {
        "id": "N6MOSLnsBxIJ"
      },
      "execution_count": null,
      "outputs": []
    },
    {
      "cell_type": "markdown",
      "source": [
        "## Training Efficiency and Hardware\n",
        "\n",
        "Training efficiency is about more than just patience, being able to train a full model in a manageable amount of time on accessible hardware makes replication more accessible and allows for more iteration on the model\n",
        "\n",
        "The initial configuration using the unbalanced dataset with 200,853 samples on a T4 GPU resulted in ~3 hours of training per epoch, which would take a full day to complete training. Ultimately it was killed by Google Colab for running too long:\n",
        "\n",
        "![image](https://github.com/codiak/DTSA-5798-Article-Classifier/blob/main/T4-full-data.png?raw=t)\n",
        "\n",
        "\n",
        "The balanced dataset with 24,521 samples per category (49,042 total) training on an L4 GPU performed better, mostly due to the reduction in the dataset. It was taking about 25min per epoch:\n",
        "\n",
        "![image](https://github.com/codiak/DTSA-5798-Article-Classifier/blob/main/L4-49k-data.png?raw=t)\n",
        "\n",
        "\n",
        "Finally, a combination of selecting 10,000 samples per category, training on an A100 GPU, and increasing batch size to 64 resulted in a manageable 3-4min per epoch."
      ],
      "metadata": {
        "id": "1wCwp46b8Qzn"
      }
    },
    {
      "cell_type": "markdown",
      "source": [
        "## Model B: Bert as Base Model\n",
        "\n",
        "In the first model, the base model used was DistilBERT, and the text was preprocessed accordingly.\n",
        "\n",
        "During inference, DistilBERT is 60% faster than BERT. DistilBERT has 44M fewer parameters and in total is 40% smaller than BERT. However, the original BERT model is slightly more performant, and we can test if that performance is meaningful in this case."
      ],
      "metadata": {
        "id": "omylbH3nCLs9"
      }
    },
    {
      "cell_type": "code",
      "source": [
        "# release GPU memory for next training\n",
        "ktrain.release_gpu_memory()"
      ],
      "metadata": {
        "id": "wYudFbshJEHB"
      },
      "execution_count": null,
      "outputs": []
    },
    {
      "cell_type": "code",
      "source": [
        "train_bert, val_bert, preprocess_bert = ktrain.text.texts_from_df(\n",
        "    reviews_subset,\n",
        "    \"text\",\n",
        "    label_columns=[\"health-wellness\"],\n",
        "    val_df=None,\n",
        "    max_features=20000,\n",
        "    maxlen=512,\n",
        "    val_pct=0.1,\n",
        "    ngram_range=1,\n",
        "    preprocess_mode=\"bert\",\n",
        "    verbose=1\n",
        ")"
      ],
      "metadata": {
        "colab": {
          "base_uri": "https://localhost:8080/",
          "height": 391
        },
        "id": "QoGffwqLEgwL",
        "outputId": "9a52e431-afd0-4ec8-f23c-78efa8e23647"
      },
      "execution_count": null,
      "outputs": [
        {
          "output_type": "stream",
          "name": "stdout",
          "text": [
            "['not_health-wellness', 'health-wellness']\n",
            "       not_health-wellness  health-wellness\n",
            "13205                  1.0              0.0\n",
            "9977                   0.0              1.0\n",
            "17191                  1.0              0.0\n",
            "8294                   1.0              0.0\n",
            "7482                   0.0              1.0\n",
            "['not_health-wellness', 'health-wellness']\n",
            "       not_health-wellness  health-wellness\n",
            "13581                  0.0              1.0\n",
            "19951                  1.0              0.0\n",
            "2255                   1.0              0.0\n",
            "4410                   0.0              1.0\n",
            "3895                   0.0              1.0\n",
            "preprocessing train...\n",
            "language: en\n"
          ]
        },
        {
          "output_type": "display_data",
          "data": {
            "text/plain": [
              "<IPython.core.display.HTML object>"
            ],
            "text/html": [
              "\n",
              "<style>\n",
              "    /* Turns off some styling */\n",
              "    progress {\n",
              "        /* gets rid of default border in Firefox and Opera. */\n",
              "        border: none;\n",
              "        /* Needs to be in here for Safari polyfill so background images work as expected. */\n",
              "        background-size: auto;\n",
              "    }\n",
              "    progress:not([value]), progress:not([value])::-webkit-progress-bar {\n",
              "        background: repeating-linear-gradient(45deg, #7e7e7e, #7e7e7e 10px, #5c5c5c 10px, #5c5c5c 20px);\n",
              "    }\n",
              "    .progress-bar-interrupted, .progress-bar-interrupted::-webkit-progress-bar {\n",
              "        background: #F44336;\n",
              "    }\n",
              "</style>\n"
            ]
          },
          "metadata": {}
        },
        {
          "output_type": "display_data",
          "data": {
            "text/plain": [
              "<IPython.core.display.HTML object>"
            ],
            "text/html": [
              "done."
            ]
          },
          "metadata": {}
        },
        {
          "output_type": "stream",
          "name": "stdout",
          "text": [
            "Is Multi-Label? False\n",
            "preprocessing test...\n",
            "language: en\n"
          ]
        },
        {
          "output_type": "display_data",
          "data": {
            "text/plain": [
              "<IPython.core.display.HTML object>"
            ],
            "text/html": [
              "\n",
              "<style>\n",
              "    /* Turns off some styling */\n",
              "    progress {\n",
              "        /* gets rid of default border in Firefox and Opera. */\n",
              "        border: none;\n",
              "        /* Needs to be in here for Safari polyfill so background images work as expected. */\n",
              "        background-size: auto;\n",
              "    }\n",
              "    progress:not([value]), progress:not([value])::-webkit-progress-bar {\n",
              "        background: repeating-linear-gradient(45deg, #7e7e7e, #7e7e7e 10px, #5c5c5c 10px, #5c5c5c 20px);\n",
              "    }\n",
              "    .progress-bar-interrupted, .progress-bar-interrupted::-webkit-progress-bar {\n",
              "        background: #F44336;\n",
              "    }\n",
              "</style>\n"
            ]
          },
          "metadata": {}
        },
        {
          "output_type": "display_data",
          "data": {
            "text/plain": [
              "<IPython.core.display.HTML object>"
            ],
            "text/html": [
              "done."
            ]
          },
          "metadata": {}
        }
      ]
    },
    {
      "cell_type": "code",
      "source": [
        "model_bert = ktrain.text.text_classifier(name='bert', train_data=train_bert, preproc=preprocess_bert)\n",
        "learner_bert = ktrain.get_learner(model_bert, train_data=train_bert, val_data=val_bert, batch_size=16)"
      ],
      "metadata": {
        "colab": {
          "base_uri": "https://localhost:8080/"
        },
        "id": "TsdKtTLfE5LK",
        "outputId": "aebf7054-b536-4a23-df30-f3bf8bc956f6"
      },
      "execution_count": null,
      "outputs": [
        {
          "output_type": "stream",
          "name": "stdout",
          "text": [
            "Is Multi-Label? False\n",
            "maxlen is 512\n"
          ]
        },
        {
          "output_type": "stream",
          "name": "stderr",
          "text": [
            "/usr/local/lib/python3.10/dist-packages/tf_keras/src/initializers/initializers.py:121: UserWarning: The initializer GlorotNormal is unseeded and being called multiple times, which will return identical values each time (even if the initializer is unseeded). Please update your code to provide a seed to the initializer, or avoid using the same initializer instance more than once.\n",
            "  warnings.warn(\n"
          ]
        },
        {
          "output_type": "stream",
          "name": "stdout",
          "text": [
            "done.\n"
          ]
        },
        {
          "output_type": "stream",
          "name": "stderr",
          "text": [
            "/usr/local/lib/python3.10/dist-packages/ktrain/__init__.py:100: UserWarning: For a GPU with 12GB of RAM, the following maxima apply:\n",
            "        sequence len=64, max_batch_size=64\n",
            "        sequence len=128, max_batch_size=32\n",
            "        sequence len=256, max_batch_size=16\n",
            "        sequence len=320, max_batch_size=14\n",
            "        sequence len=384, max_batch_size=12\n",
            "        sequence len=512, max_batch_size=6\n",
            "\n",
            "        You've exceeded these limits.\n",
            "        If using a GPU with <=12GB of memory, you may run out of memory during training.\n",
            "        If necessary, adjust sequence length or batch size based on above.\n",
            "  I.warnings.warn(msg)\n"
          ]
        }
      ]
    },
    {
      "cell_type": "code",
      "source": [
        "history_bert = learner_bert.autofit(\n",
        "    1e-4,\n",
        "    checkpoint_folder='checkpoint_b',\n",
        "    epochs=10,\n",
        "    early_stopping=True\n",
        ")"
      ],
      "metadata": {
        "colab": {
          "base_uri": "https://localhost:8080/"
        },
        "id": "-YdshapHFTZS",
        "outputId": "9fd27a53-270d-489a-b034-1a08697a6b37"
      },
      "execution_count": null,
      "outputs": [
        {
          "output_type": "stream",
          "name": "stdout",
          "text": [
            "\n",
            "\n",
            "begin training using triangular learning rate policy with max lr of 0.0001...\n",
            "Epoch 1/10\n",
            "1125/1125 [==============================] - 607s 498ms/step - loss: 0.2902 - accuracy: 0.8804 - val_loss: 0.2100 - val_accuracy: 0.9150\n",
            "Epoch 2/10\n",
            "1125/1125 [==============================] - ETA: 0s - loss: 0.1618 - accuracy: 0.9394Restoring model weights from the end of the best epoch: 1.\n",
            "1125/1125 [==============================] - 551s 490ms/step - loss: 0.1618 - accuracy: 0.9394 - val_loss: 0.2351 - val_accuracy: 0.9150\n",
            "Epoch 2: early stopping\n",
            "Weights from best epoch have been loaded into model.\n"
          ]
        }
      ]
    },
    {
      "cell_type": "code",
      "source": [
        "predictor_bert = ktrain.get_predictor(learner_bert.model, preproc=preprocess_bert)\n",
        "validation_bert = learner_bert.validate(val_data=val_bert, print_report=True)"
      ],
      "metadata": {
        "colab": {
          "base_uri": "https://localhost:8080/"
        },
        "id": "qeUgI1zjSe1f",
        "outputId": "1c50e94f-9e74-4f3d-d3d4-1fdcfe63d7ec"
      },
      "execution_count": null,
      "outputs": [
        {
          "output_type": "stream",
          "name": "stdout",
          "text": [
            "63/63 [==============================] - 26s 282ms/step\n",
            "              precision    recall  f1-score   support\n",
            "\n",
            "           0       0.93      0.89      0.91       965\n",
            "           1       0.90      0.94      0.92      1035\n",
            "\n",
            "    accuracy                           0.92      2000\n",
            "   macro avg       0.92      0.91      0.91      2000\n",
            "weighted avg       0.92      0.92      0.91      2000\n",
            "\n"
          ]
        }
      ]
    },
    {
      "cell_type": "code",
      "source": [
        "predictor_bert.save('/content/drive/MyDrive/MSDS_marketing_text_analytics/model-2-bert')"
      ],
      "metadata": {
        "colab": {
          "base_uri": "https://localhost:8080/"
        },
        "id": "Vh__BIQSSmOB",
        "outputId": "a39d46e2-0c91-4887-898d-19e4990d9a74"
      },
      "execution_count": null,
      "outputs": [
        {
          "output_type": "stream",
          "name": "stderr",
          "text": [
            "/usr/local/lib/python3.10/dist-packages/tf_keras/src/engine/training.py:3098: UserWarning: You are saving your model as an HDF5 file via `model.save()`. This file format is considered legacy. We recommend using instead the native TF-Keras format, e.g. `model.save('my_model.keras')`.\n",
            "  saving_api.save_model(\n"
          ]
        }
      ]
    },
    {
      "cell_type": "markdown",
      "source": [
        "Swapping from DistilBERT to BERT did improve performance! But only by 0.01 in the weighted average for precision and for recall.\n",
        "\n",
        "The first model took 7.8 min total training time, at about 4min per epoch. In contrast, using BERT as base resulted in 19.3min total training time, at about 10min per epoch. The extra complexity and size of BERT provides a marginal performance bump, but disproportionately increases training time."
      ],
      "metadata": {
        "id": "s5IdjbecC5Vg"
      }
    },
    {
      "cell_type": "markdown",
      "source": [
        "## Alternate Preprocessing: Larger N-grams, Less Text\n",
        "\n",
        "For the third variant, I expanded the text representation to include up to trigrams (3-grams) to capture more contextual information from the text. To accommodate for the increased number of features resulting from the inclusion of trigrams, I increased the `max_features` parameter, ensuring that the model can handle a larger vocabulary size effectively. Additionally, recognizing that the expanded feature space might lead to more complex training dynamics, I decreased the learning rate to help the model converge more smoothly and prevent potential issues with overshooting during optimization."
      ],
      "metadata": {
        "id": "_cK0nvg5LAi7"
      }
    },
    {
      "cell_type": "code",
      "source": [
        "train_data_c, val_data_c, preprocess_c = ktrain.text.texts_from_df(\n",
        "    reviews_subset,\n",
        "    \"text\",\n",
        "    label_columns=[\"health-wellness\"],\n",
        "    val_df=None,\n",
        "    max_features=40000,\n",
        "    maxlen=512,\n",
        "    val_pct=0.1,\n",
        "    ngram_range=3,\n",
        "    preprocess_mode=\"distilbert\",\n",
        "    verbose=1\n",
        ")\n",
        "\n",
        "model_c = preprocess_c.get_classifier()\n",
        "learner_c = ktrain.get_learner(model_c, train_data=train_data_c, val_data=val_data_c, batch_size=32)"
      ],
      "metadata": {
        "colab": {
          "base_uri": "https://localhost:8080/",
          "height": 499
        },
        "id": "_PdfFHoLXclj",
        "outputId": "a7d579ef-5849-4a40-aee8-1eaaf7f9282f"
      },
      "execution_count": null,
      "outputs": [
        {
          "output_type": "stream",
          "name": "stdout",
          "text": [
            "['not_health-wellness', 'health-wellness']\n",
            "       not_health-wellness  health-wellness\n",
            "2946                   1.0              0.0\n",
            "11011                  0.0              1.0\n",
            "15720                  0.0              1.0\n",
            "2801                   1.0              0.0\n",
            "2618                   1.0              0.0\n",
            "['not_health-wellness', 'health-wellness']\n",
            "       not_health-wellness  health-wellness\n",
            "7006                   0.0              1.0\n",
            "12141                  0.0              1.0\n",
            "12898                  0.0              1.0\n",
            "12166                  1.0              0.0\n",
            "3500                   0.0              1.0\n",
            "preprocessing train...\n",
            "language: en\n",
            "train sequence lengths:\n",
            "\tmean : 32\n",
            "\t95percentile : 58\n",
            "\t99percentile : 68\n"
          ]
        },
        {
          "output_type": "display_data",
          "data": {
            "text/plain": [
              "<IPython.core.display.HTML object>"
            ],
            "text/html": [
              "\n",
              "<style>\n",
              "    /* Turns off some styling */\n",
              "    progress {\n",
              "        /* gets rid of default border in Firefox and Opera. */\n",
              "        border: none;\n",
              "        /* Needs to be in here for Safari polyfill so background images work as expected. */\n",
              "        background-size: auto;\n",
              "    }\n",
              "    progress:not([value]), progress:not([value])::-webkit-progress-bar {\n",
              "        background: repeating-linear-gradient(45deg, #7e7e7e, #7e7e7e 10px, #5c5c5c 10px, #5c5c5c 20px);\n",
              "    }\n",
              "    .progress-bar-interrupted, .progress-bar-interrupted::-webkit-progress-bar {\n",
              "        background: #F44336;\n",
              "    }\n",
              "</style>\n"
            ]
          },
          "metadata": {}
        },
        {
          "output_type": "display_data",
          "data": {
            "text/plain": [
              "<IPython.core.display.HTML object>"
            ],
            "text/html": []
          },
          "metadata": {}
        },
        {
          "output_type": "stream",
          "name": "stdout",
          "text": [
            "Is Multi-Label? False\n",
            "preprocessing test...\n",
            "language: en\n",
            "test sequence lengths:\n",
            "\tmean : 32\n",
            "\t95percentile : 57\n",
            "\t99percentile : 68\n"
          ]
        },
        {
          "output_type": "display_data",
          "data": {
            "text/plain": [
              "<IPython.core.display.HTML object>"
            ],
            "text/html": [
              "\n",
              "<style>\n",
              "    /* Turns off some styling */\n",
              "    progress {\n",
              "        /* gets rid of default border in Firefox and Opera. */\n",
              "        border: none;\n",
              "        /* Needs to be in here for Safari polyfill so background images work as expected. */\n",
              "        background-size: auto;\n",
              "    }\n",
              "    progress:not([value]), progress:not([value])::-webkit-progress-bar {\n",
              "        background: repeating-linear-gradient(45deg, #7e7e7e, #7e7e7e 10px, #5c5c5c 10px, #5c5c5c 20px);\n",
              "    }\n",
              "    .progress-bar-interrupted, .progress-bar-interrupted::-webkit-progress-bar {\n",
              "        background: #F44336;\n",
              "    }\n",
              "</style>\n"
            ]
          },
          "metadata": {}
        },
        {
          "output_type": "display_data",
          "data": {
            "text/plain": [
              "<IPython.core.display.HTML object>"
            ],
            "text/html": []
          },
          "metadata": {}
        }
      ]
    },
    {
      "cell_type": "code",
      "source": [
        "history_c = learner_c.autofit(\n",
        "    1e-5,\n",
        "    checkpoint_folder='checkpoint_larger_ngrams',\n",
        "    epochs=10,\n",
        "    early_stopping=True\n",
        ")"
      ],
      "metadata": {
        "colab": {
          "base_uri": "https://localhost:8080/"
        },
        "id": "ve3VWcJCXliT",
        "outputId": "4626437a-a7d0-4960-a1ef-0c2b4b5fe410"
      },
      "execution_count": null,
      "outputs": [
        {
          "output_type": "stream",
          "name": "stdout",
          "text": [
            "\n",
            "\n",
            "begin training using triangular learning rate policy with max lr of 1e-05...\n",
            "Epoch 1/10\n",
            "563/563 [==============================] - 259s 418ms/step - loss: 0.3081 - accuracy: 0.8718 - val_loss: 0.2082 - val_accuracy: 0.9240\n",
            "Epoch 2/10\n",
            "563/563 [==============================] - ETA: 0s - loss: 0.1865 - accuracy: 0.9308Restoring model weights from the end of the best epoch: 1.\n",
            "563/563 [==============================] - 230s 409ms/step - loss: 0.1865 - accuracy: 0.9308 - val_loss: 0.2100 - val_accuracy: 0.9185\n",
            "Epoch 2: early stopping\n",
            "Weights from best epoch have been loaded into model.\n"
          ]
        }
      ]
    },
    {
      "cell_type": "code",
      "source": [
        "predictor_c = ktrain.get_predictor(learner_c.model, preproc=preprocess_c)\n",
        "validation_c = learner_c.validate(val_data=val_data_c, print_report=True)"
      ],
      "metadata": {
        "colab": {
          "base_uri": "https://localhost:8080/"
        },
        "id": "13hYu2b2YfY3",
        "outputId": "757c42b8-5164-480f-f188-8fab92a1c25b"
      },
      "execution_count": null,
      "outputs": [
        {
          "output_type": "stream",
          "name": "stdout",
          "text": [
            "63/63 [==============================] - 6s 42ms/step\n",
            "              precision    recall  f1-score   support\n",
            "\n",
            "           0       0.93      0.92      0.92      1008\n",
            "           1       0.92      0.93      0.92       992\n",
            "\n",
            "    accuracy                           0.92      2000\n",
            "   macro avg       0.92      0.92      0.92      2000\n",
            "weighted avg       0.92      0.92      0.92      2000\n",
            "\n"
          ]
        }
      ]
    },
    {
      "cell_type": "code",
      "source": [
        "predictor_c.save('/content/drive/MyDrive/MSDS_marketing_text_analytics/model-3-ngrams')"
      ],
      "metadata": {
        "id": "YRiNueQaYjKg"
      },
      "execution_count": null,
      "outputs": []
    },
    {
      "cell_type": "markdown",
      "source": [
        "Comparing metrics to the previous strongest model, based on BERT, there is again a marginal increase in performance, notably across the macro averages, as well as a 0.01 increase in the f1-score. However, unlike the BERT based model, it did not come at the cost of training time. This third model trained in 8.2min, comparable to the first, but still performed better."
      ],
      "metadata": {
        "id": "Nn5Ked9BEX0i"
      }
    },
    {
      "cell_type": "markdown",
      "metadata": {
        "id": "Wn3AQhzYQ8oN"
      },
      "source": [
        "## Evaluation\n",
        "\n",
        "Before comparing validation metrics side-by-side, I took a spot-checking approach to seeing if the model behaviors were logical. And to see where they differed in their predictions."
      ]
    },
    {
      "cell_type": "code",
      "source": [
        "# Reload models if needed\n",
        "predictor = ktrain.load_predictor('/content/drive/MyDrive/MSDS_marketing_text_analytics/model-1-distilbert')"
      ],
      "metadata": {
        "id": "npDm0pQUd9HI"
      },
      "execution_count": 9,
      "outputs": []
    },
    {
      "cell_type": "code",
      "source": [
        "predictor_bert = ktrain.load_predictor('/content/drive/MyDrive/MSDS_marketing_text_analytics/model-2-bert')"
      ],
      "metadata": {
        "id": "__P4SFdCxqX9"
      },
      "execution_count": 16,
      "outputs": []
    },
    {
      "cell_type": "code",
      "source": [
        "predictor_c = ktrain.load_predictor('/content/drive/MyDrive/MSDS_marketing_text_analytics/model-3-ngrams')"
      ],
      "metadata": {
        "id": "v-76q2Urxo4_"
      },
      "execution_count": 13,
      "outputs": []
    },
    {
      "cell_type": "code",
      "execution_count": 14,
      "metadata": {
        "id": "pT0zi7gUQhbJ",
        "colab": {
          "base_uri": "https://localhost:8080/"
        },
        "outputId": "d4777da0-6d3c-40a9-8841-83420600bc5d"
      },
      "outputs": [
        {
          "output_type": "stream",
          "name": "stdout",
          "text": [
            "---------------------------\n",
            "The probability this is health/wellness is 0.18700695\n",
            "North America’s Rarest Wolf Had A Bad Year The Mexican gray wolf population in the United States dropped 12 percent in 2015, with the U.S. Fish and Wildlife Service\n",
            "---------------------------\n",
            "The probability this is health/wellness is 0.011720816\n",
            "Older Trump Voters Say They Oppose Key Elements Of GOP Obamacare Replacement Cutting Medicaid and charging older people more aren't popular moves, according to a new AARP survey.\n",
            "---------------------------\n",
            "The probability this is health/wellness is 0.004632367\n",
            "Phoenix Was Trump Country Long Before Trump Phoenix provides Trump with a home to hard-right racial, anti-immigrant and conspiratorial politics.\n",
            "---------------------------\n",
            "The probability this is health/wellness is 0.9750275\n",
            "3 Ways to Stop Complaining! Because You're Stressing Me Out... While there certainly are uncontrollable parts about life, the reality is that the majority of your life is the direct result of the decisions you have or haven't made.\n",
            "---------------------------\n",
            "The probability this is health/wellness is 0.95363617\n",
            "Jacquelyn Kampe's GPS Guide On Making Mistakes Read this when you're ruminating on a mistake.\n",
            "---------------------------\n",
            "The probability this is health/wellness is 0.008323249\n",
            "Poet Nails What President Obama Means To Young Black Men \"One day I'll tell my children, about how my president was black.\"\n",
            "---------------------------\n",
            "The probability this is health/wellness is 0.9217393\n",
            "Exposure To Orange Light May Be The Secret To Really Waking Up The results of an experiment performed by a team of Belgian scientists suggest that exposure to different lights can impact\n",
            "---------------------------\n",
            "The probability this is health/wellness is 0.83634657\n",
            "Tap Into The Health Risks Of Beer Remove those beer goggles and uncover the truth behind chugging your favorite brews. Read more on Everyday Health\n",
            "---------------------------\n",
            "The probability this is health/wellness is 0.005480345\n",
            "James Corden Fills Out His First NCAA Bracket In Hilariously British Style “People do this for fun?\"\n",
            "---------------------------\n",
            "The probability this is health/wellness is 0.008935397\n",
            "Chloë Sevigny in Proenza Schouler: Look Of The Day Want more? Be sure to check out Stylelist on Twitter, Facebook and Pinterest. WHAT: The messy-haired \"It\" girl turned up\n"
          ]
        }
      ],
      "source": [
        "samples = reviews_subset.sample(10)\n",
        "\n",
        "# Model A: Distilbert Based\n",
        "for text in samples['text']:\n",
        "    probs = predictor.predict(text, return_proba=True)\n",
        "    print(\"---------------------------\")\n",
        "    print('The probability this is health/wellness is %s' % probs[1])\n",
        "    print(text)"
      ]
    },
    {
      "cell_type": "code",
      "source": [
        "# Model B: Bert Based\n",
        "for text in samples['text']:\n",
        "    probs = predictor_bert.predict(text, return_proba=True)\n",
        "    print(\"---------------------------\")\n",
        "    print('The probability this is health/wellness is %s' % probs[1])\n",
        "    print(text)"
      ],
      "metadata": {
        "colab": {
          "base_uri": "https://localhost:8080/"
        },
        "id": "_C96OKVlWq5P",
        "outputId": "50cf8809-94f7-4643-c6be-c2d480269cad"
      },
      "execution_count": 17,
      "outputs": [
        {
          "output_type": "stream",
          "name": "stdout",
          "text": [
            "---------------------------\n",
            "The probability this is health/wellness is 0.009600028\n",
            "North America’s Rarest Wolf Had A Bad Year The Mexican gray wolf population in the United States dropped 12 percent in 2015, with the U.S. Fish and Wildlife Service\n",
            "---------------------------\n",
            "The probability this is health/wellness is 0.2362621\n",
            "Older Trump Voters Say They Oppose Key Elements Of GOP Obamacare Replacement Cutting Medicaid and charging older people more aren't popular moves, according to a new AARP survey.\n",
            "---------------------------\n",
            "The probability this is health/wellness is 0.0009976566\n",
            "Phoenix Was Trump Country Long Before Trump Phoenix provides Trump with a home to hard-right racial, anti-immigrant and conspiratorial politics.\n",
            "---------------------------\n",
            "The probability this is health/wellness is 0.9749405\n",
            "3 Ways to Stop Complaining! Because You're Stressing Me Out... While there certainly are uncontrollable parts about life, the reality is that the majority of your life is the direct result of the decisions you have or haven't made.\n",
            "---------------------------\n",
            "The probability this is health/wellness is 0.97657686\n",
            "Jacquelyn Kampe's GPS Guide On Making Mistakes Read this when you're ruminating on a mistake.\n",
            "---------------------------\n",
            "The probability this is health/wellness is 0.0014781188\n",
            "Poet Nails What President Obama Means To Young Black Men \"One day I'll tell my children, about how my president was black.\"\n",
            "---------------------------\n",
            "The probability this is health/wellness is 0.96350366\n",
            "Exposure To Orange Light May Be The Secret To Really Waking Up The results of an experiment performed by a team of Belgian scientists suggest that exposure to different lights can impact\n",
            "---------------------------\n",
            "The probability this is health/wellness is 0.9737067\n",
            "Tap Into The Health Risks Of Beer Remove those beer goggles and uncover the truth behind chugging your favorite brews. Read more on Everyday Health\n",
            "---------------------------\n",
            "The probability this is health/wellness is 0.00074626645\n",
            "James Corden Fills Out His First NCAA Bracket In Hilariously British Style “People do this for fun?\"\n",
            "---------------------------\n",
            "The probability this is health/wellness is 0.0026123284\n",
            "Chloë Sevigny in Proenza Schouler: Look Of The Day Want more? Be sure to check out Stylelist on Twitter, Facebook and Pinterest. WHAT: The messy-haired \"It\" girl turned up\n"
          ]
        }
      ]
    },
    {
      "cell_type": "code",
      "source": [
        "# Model C: Larger N-gram Distilbert\n",
        "for text in samples['text']:\n",
        "    probs = predictor_c.predict(text, return_proba=True)\n",
        "    print(\"---------------------------\")\n",
        "    print('The probability this is health/wellness is %s' % probs[1])\n",
        "    print(text)"
      ],
      "metadata": {
        "id": "-dxhvBCtX-55",
        "colab": {
          "base_uri": "https://localhost:8080/"
        },
        "outputId": "86136f36-c72f-4f18-ff3e-75f58b04b6a4"
      },
      "execution_count": 15,
      "outputs": [
        {
          "output_type": "stream",
          "name": "stdout",
          "text": [
            "---------------------------\n",
            "The probability this is health/wellness is 0.16250975\n",
            "North America’s Rarest Wolf Had A Bad Year The Mexican gray wolf population in the United States dropped 12 percent in 2015, with the U.S. Fish and Wildlife Service\n",
            "---------------------------\n",
            "The probability this is health/wellness is 0.004685606\n",
            "Older Trump Voters Say They Oppose Key Elements Of GOP Obamacare Replacement Cutting Medicaid and charging older people more aren't popular moves, according to a new AARP survey.\n",
            "---------------------------\n",
            "The probability this is health/wellness is 0.004798957\n",
            "Phoenix Was Trump Country Long Before Trump Phoenix provides Trump with a home to hard-right racial, anti-immigrant and conspiratorial politics.\n",
            "---------------------------\n",
            "The probability this is health/wellness is 0.96088505\n",
            "3 Ways to Stop Complaining! Because You're Stressing Me Out... While there certainly are uncontrollable parts about life, the reality is that the majority of your life is the direct result of the decisions you have or haven't made.\n",
            "---------------------------\n",
            "The probability this is health/wellness is 0.96981627\n",
            "Jacquelyn Kampe's GPS Guide On Making Mistakes Read this when you're ruminating on a mistake.\n",
            "---------------------------\n",
            "The probability this is health/wellness is 0.0050072405\n",
            "Poet Nails What President Obama Means To Young Black Men \"One day I'll tell my children, about how my president was black.\"\n",
            "---------------------------\n",
            "The probability this is health/wellness is 0.9696415\n",
            "Exposure To Orange Light May Be The Secret To Really Waking Up The results of an experiment performed by a team of Belgian scientists suggest that exposure to different lights can impact\n",
            "---------------------------\n",
            "The probability this is health/wellness is 0.98469317\n",
            "Tap Into The Health Risks Of Beer Remove those beer goggles and uncover the truth behind chugging your favorite brews. Read more on Everyday Health\n",
            "---------------------------\n",
            "The probability this is health/wellness is 0.007366739\n",
            "James Corden Fills Out His First NCAA Bracket In Hilariously British Style “People do this for fun?\"\n",
            "---------------------------\n",
            "The probability this is health/wellness is 0.02663444\n",
            "Chloë Sevigny in Proenza Schouler: Look Of The Day Want more? Be sure to check out Stylelist on Twitter, Facebook and Pinterest. WHAT: The messy-haired \"It\" girl turned up\n"
          ]
        }
      ]
    },
    {
      "cell_type": "markdown",
      "source": [
        "Across these 10 samples, two contrasts stand out. First, the second model was less certain about the article \"Older Trump Voters Say They Oppose Key Elements Of GOP Obamacare...\" with a 23% probability that it is health/wellness related, whereas the other two models gave it a \\<1% probability. The second model also differed on the first article about wolves, suggesting it was less likely.\n",
        "\n",
        "Second, while all three models predicted a low probability that the last article \"Chloë Sevigny in Proenza Schouler...\" was health/wellness, the third larger n-gram model gave a 10x larger probability (2% vs 0.2%), suggesting it associate the stylist topic as more closely related which it might be considered semantically."
      ],
      "metadata": {
        "id": "THja0hgfMco5"
      }
    },
    {
      "cell_type": "markdown",
      "source": [
        "### Comparing Evaluation Metrics"
      ],
      "metadata": {
        "id": "KPmMV68NGiM8"
      }
    },
    {
      "cell_type": "markdown",
      "source": [
        "To compare the evaluation metrics, graph them side-by-side. Professor Vargo provided metrics for his model, which are included along side these three models."
      ],
      "metadata": {
        "id": "vLd1JZjtGnEK"
      }
    },
    {
      "cell_type": "code",
      "source": [
        "import matplotlib.pyplot as plt\n",
        "import numpy as np\n",
        "\n",
        "# Static metric variables for reference\n",
        "categories = ['Precision', 'Recall', 'F1-score']\n",
        "support_category = ['Support (thousands)']\n",
        "model_a = [0.91, 0.91, 0.91]\n",
        "model_b = [0.92, 0.92, 0.91]\n",
        "model_c = [0.92, 0.92, 0.92]\n",
        "model_vargo = [0.86, 0.86, 0.86]\n",
        "\n",
        "support_a = [2000]\n",
        "support_b = [2000]\n",
        "support_c = [2000]\n",
        "support_vargo = [1339]\n",
        "\n",
        "# Plot to compare metrics\n",
        "n_categories = len(categories)\n",
        "bar_width = 0.2\n",
        "r1 = np.arange(n_categories)\n",
        "r2 = [x + bar_width for x in r1]\n",
        "r3 = [x + bar_width for x in r2]\n",
        "r4 = [x + bar_width for x in r3]\n",
        "\n",
        "plt.figure(figsize=(10, 5))\n",
        "plt.bar(r1, model_a, color='#1abc9c', width=bar_width, label='Model A (Distilbert)')\n",
        "plt.bar(r2, model_b, color='#e67e22', width=bar_width, label='Model B (Bert)')\n",
        "plt.bar(r3, model_c, color='#9b59b6', width=bar_width, label='Model C (Distilbert, trigrams)')\n",
        "plt.bar(r4, model_vargo, color='#3498db', width=bar_width, label='Model Baseline (Prof Vargo)')\n",
        "\n",
        "# Set up with labels, legend, etc.\n",
        "plt.xlabel('Metric', fontweight='bold')\n",
        "plt.ylabel('Score', fontweight='bold')\n",
        "plt.title('Model Comparison (Precision, Recall, F1-score)', fontweight='bold')\n",
        "plt.xticks([r + 1.5 * bar_width for r in range(n_categories)], categories)\n",
        "plt.legend(bbox_to_anchor=(1, 1.05))\n",
        "plt.grid(True)\n",
        "plt.show()\n",
        "\n",
        "# Separate plot for support\n",
        "plt.figure(figsize=(4, 5))\n",
        "r1 = np.arange(len(support_category))\n",
        "r2 = [x + bar_width for x in r1]\n",
        "r3 = [x + bar_width for x in r2]\n",
        "r4 = [x + bar_width for x in r3]\n",
        "\n",
        "plt.bar(r1, support_a, color='#1abc9c', width=bar_width, label='Model A (Distilbert)')\n",
        "plt.bar(r2, support_b, color='#e67e22', width=bar_width, label='Model B (Bert)')\n",
        "plt.bar(r3, support_c, color='#9b59b6', width=bar_width, label='Model C (Distilbert, trigrams)')\n",
        "plt.bar(r4, support_vargo, color='#3498db', width=bar_width, label='Model Baseline (Prof Vargo)')\n",
        "\n",
        "plt.xlabel('Metric', fontweight='bold')\n",
        "plt.ylabel('Support (thousands)', fontweight='bold')\n",
        "plt.title('Model Comparison (Support)', fontweight='bold')\n",
        "plt.xticks([r + 1.5 * bar_width for r in range(len(support_category))], support_category)\n",
        "plt.legend(bbox_to_anchor=(1, 1.05))\n",
        "plt.grid(True)\n",
        "plt.show()\n"
      ],
      "metadata": {
        "colab": {
          "base_uri": "https://localhost:8080/",
          "height": 957
        },
        "id": "gc8674g5gXZi",
        "outputId": "e548c0c5-3f6b-4a69-d592-2f0fc4b1391b"
      },
      "execution_count": 21,
      "outputs": [
        {
          "output_type": "display_data",
          "data": {
            "text/plain": [
              "<Figure size 1000x500 with 1 Axes>"
            ],
            "image/png": "[encoded data removed]"
          },
          "metadata": {}
        },
        {
          "output_type": "display_data",
          "data": {
            "text/plain": [
              "<Figure size 400x500 with 1 Axes>"
            ],
            "image/png": "[encoded data removed]"
          },
          "metadata": {}
        }
      ]
    },
    {
      "cell_type": "markdown",
      "source": [
        "## Conclusion\n",
        "\n",
        "This project explored three different models for classifying HuffPost articles into health and wellness categories for a hypothetical media buying company. The goal was to provide a robust tool for effective contextual advertising, particularly for Theragun, a company targeting health and wellness enthusiasts. I tested three models trained using the Ktrain library: DistilBERT, BERT, and a DistilBERT model with expanded n-grams. Each model was evaluated based on precision, recall, f1-score, and overall training efficiency.\n",
        "\n",
        "All three models performed well, with accuracy, precision, recall, and f1-scores all around 0.91 to 0.92. The BERT model showed a slight improvement in accuracy and recall compared to DistilBERT, but the performance gain was marginal. Both DistilBERT models  were significantly more efficient in terms of training time. The BERT model required more than double the training time compared to the DistilBERT models, and still *slightly* underperformed the third model.\n",
        "\n",
        "For future development, given that the training data is 5+ years old, it is crucial to monitor for data drift and regularly update the model with new data to maintain its accuracy. The model developed performs more than well enough for the task at hand, but further fine-tuning of hyperparameters or exploring additional features might also improve performance further."
      ],
      "metadata": {
        "id": "Fy3MR3N0G1Zo"
      }
    }
  ],
  "metadata": {
    "accelerator": "GPU",
    "colab": {
      "gpuType": "L4",
      "machine_shape": "hm",
      "provenance": []
    },
    "kernelspec": {
      "display_name": "Python 3",
      "name": "python3"
    },
    "language_info": {
      "name": "python"
    },
    "widgets": {
      "application/vnd.jupyter.widget-state+json": {
        "c68bc6d781274e8da993fb7999b53587": {
          "model_module": "@jupyter-widgets/controls",
          "model_name": "HBoxModel",
          "model_module_version": "1.5.0",
          "state": {
            "_dom_classes": [],
            "_model_module": "@jupyter-widgets/controls",
            "_model_module_version": "1.5.0",
            "_model_name": "HBoxModel",
            "_view_count": null,
            "_view_module": "@jupyter-widgets/controls",
            "_view_module_version": "1.5.0",
            "_view_name": "HBoxView",
            "box_style": "",
            "children": [
              "IPY_MODEL_29cace2defe14782b63e810349eb7752",
              "IPY_MODEL_3d447284343e41d68b53c06a20bec4f5",
              "IPY_MODEL_c7553f2fb6564a3e946b3252ae88dc5f"
            ],
            "layout": "IPY_MODEL_08e2f51c7c054eb8b002019b4a430872"
          }
        },
        "29cace2defe14782b63e810349eb7752": {
          "model_module": "@jupyter-widgets/controls",
          "model_name": "HTMLModel",
          "model_module_version": "1.5.0",
          "state": {
            "_dom_classes": [],
            "_model_module": "@jupyter-widgets/controls",
            "_model_module_version": "1.5.0",
            "_model_name": "HTMLModel",
            "_view_count": null,
            "_view_module": "@jupyter-widgets/controls",
            "_view_module_version": "1.5.0",
            "_view_name": "HTMLView",
            "description": "",
            "description_tooltip": null,
            "layout": "IPY_MODEL_6a55bdfb405642e48a3ce55f3a9ec1e9",
            "placeholder": "​",
            "style": "IPY_MODEL_87679a5d63f64520a0acdf37a9ba6961",
            "value": "config.json: 100%"
          }
        },
        "3d447284343e41d68b53c06a20bec4f5": {
          "model_module": "@jupyter-widgets/controls",
          "model_name": "FloatProgressModel",
          "model_module_version": "1.5.0",
          "state": {
            "_dom_classes": [],
            "_model_module": "@jupyter-widgets/controls",
            "_model_module_version": "1.5.0",
            "_model_name": "FloatProgressModel",
            "_view_count": null,
            "_view_module": "@jupyter-widgets/controls",
            "_view_module_version": "1.5.0",
            "_view_name": "ProgressView",
            "bar_style": "success",
            "description": "",
            "description_tooltip": null,
            "layout": "IPY_MODEL_cef272f1c14c400eadd80735ae408220",
            "max": 483,
            "min": 0,
            "orientation": "horizontal",
            "style": "IPY_MODEL_b8d3ca1f093d4eb78491700d61561e51",
            "value": 483
          }
        },
        "c7553f2fb6564a3e946b3252ae88dc5f": {
          "model_module": "@jupyter-widgets/controls",
          "model_name": "HTMLModel",
          "model_module_version": "1.5.0",
          "state": {
            "_dom_classes": [],
            "_model_module": "@jupyter-widgets/controls",
            "_model_module_version": "1.5.0",
            "_model_name": "HTMLModel",
            "_view_count": null,
            "_view_module": "@jupyter-widgets/controls",
            "_view_module_version": "1.5.0",
            "_view_name": "HTMLView",
            "description": "",
            "description_tooltip": null,
            "layout": "IPY_MODEL_e6cbcfefd396455b8124b03590a46dc4",
            "placeholder": "​",
            "style": "IPY_MODEL_883b912e26b7497da9c1f4867e000170",
            "value": " 483/483 [00:00&lt;00:00, 30.1kB/s]"
          }
        },
        "08e2f51c7c054eb8b002019b4a430872": {
          "model_module": "@jupyter-widgets/base",
          "model_name": "LayoutModel",
          "model_module_version": "1.2.0",
          "state": {
            "_model_module": "@jupyter-widgets/base",
            "_model_module_version": "1.2.0",
            "_model_name": "LayoutModel",
            "_view_count": null,
            "_view_module": "@jupyter-widgets/base",
            "_view_module_version": "1.2.0",
            "_view_name": "LayoutView",
            "align_content": null,
            "align_items": null,
            "align_self": null,
            "border": null,
            "bottom": null,
            "display": null,
            "flex": null,
            "flex_flow": null,
            "grid_area": null,
            "grid_auto_columns": null,
            "grid_auto_flow": null,
            "grid_auto_rows": null,
            "grid_column": null,
            "grid_gap": null,
            "grid_row": null,
            "grid_template_areas": null,
            "grid_template_columns": null,
            "grid_template_rows": null,
            "height": null,
            "justify_content": null,
            "justify_items": null,
            "left": null,
            "margin": null,
            "max_height": null,
            "max_width": null,
            "min_height": null,
            "min_width": null,
            "object_fit": null,
            "object_position": null,
            "order": null,
            "overflow": null,
            "overflow_x": null,
            "overflow_y": null,
            "padding": null,
            "right": null,
            "top": null,
            "visibility": null,
            "width": null
          }
        },
        "6a55bdfb405642e48a3ce55f3a9ec1e9": {
          "model_module": "@jupyter-widgets/base",
          "model_name": "LayoutModel",
          "model_module_version": "1.2.0",
          "state": {
            "_model_module": "@jupyter-widgets/base",
            "_model_module_version": "1.2.0",
            "_model_name": "LayoutModel",
            "_view_count": null,
            "_view_module": "@jupyter-widgets/base",
            "_view_module_version": "1.2.0",
            "_view_name": "LayoutView",
            "align_content": null,
            "align_items": null,
            "align_self": null,
            "border": null,
            "bottom": null,
            "display": null,
            "flex": null,
            "flex_flow": null,
            "grid_area": null,
            "grid_auto_columns": null,
            "grid_auto_flow": null,
            "grid_auto_rows": null,
            "grid_column": null,
            "grid_gap": null,
            "grid_row": null,
            "grid_template_areas": null,
            "grid_template_columns": null,
            "grid_template_rows": null,
            "height": null,
            "justify_content": null,
            "justify_items": null,
            "left": null,
            "margin": null,
            "max_height": null,
            "max_width": null,
            "min_height": null,
            "min_width": null,
            "object_fit": null,
            "object_position": null,
            "order": null,
            "overflow": null,
            "overflow_x": null,
            "overflow_y": null,
            "padding": null,
            "right": null,
            "top": null,
            "visibility": null,
            "width": null
          }
        },
        "87679a5d63f64520a0acdf37a9ba6961": {
          "model_module": "@jupyter-widgets/controls",
          "model_name": "DescriptionStyleModel",
          "model_module_version": "1.5.0",
          "state": {
            "_model_module": "@jupyter-widgets/controls",
            "_model_module_version": "1.5.0",
            "_model_name": "DescriptionStyleModel",
            "_view_count": null,
            "_view_module": "@jupyter-widgets/base",
            "_view_module_version": "1.2.0",
            "_view_name": "StyleView",
            "description_width": ""
          }
        },
        "cef272f1c14c400eadd80735ae408220": {
          "model_module": "@jupyter-widgets/base",
          "model_name": "LayoutModel",
          "model_module_version": "1.2.0",
          "state": {
            "_model_module": "@jupyter-widgets/base",
            "_model_module_version": "1.2.0",
            "_model_name": "LayoutModel",
            "_view_count": null,
            "_view_module": "@jupyter-widgets/base",
            "_view_module_version": "1.2.0",
            "_view_name": "LayoutView",
            "align_content": null,
            "align_items": null,
            "align_self": null,
            "border": null,
            "bottom": null,
            "display": null,
            "flex": null,
            "flex_flow": null,
            "grid_area": null,
            "grid_auto_columns": null,
            "grid_auto_flow": null,
            "grid_auto_rows": null,
            "grid_column": null,
            "grid_gap": null,
            "grid_row": null,
            "grid_template_areas": null,
            "grid_template_columns": null,
            "grid_template_rows": null,
            "height": null,
            "justify_content": null,
            "justify_items": null,
            "left": null,
            "margin": null,
            "max_height": null,
            "max_width": null,
            "min_height": null,
            "min_width": null,
            "object_fit": null,
            "object_position": null,
            "order": null,
            "overflow": null,
            "overflow_x": null,
            "overflow_y": null,
            "padding": null,
            "right": null,
            "top": null,
            "visibility": null,
            "width": null
          }
        },
        "b8d3ca1f093d4eb78491700d61561e51": {
          "model_module": "@jupyter-widgets/controls",
          "model_name": "ProgressStyleModel",
          "model_module_version": "1.5.0",
          "state": {
            "_model_module": "@jupyter-widgets/controls",
            "_model_module_version": "1.5.0",
            "_model_name": "ProgressStyleModel",
            "_view_count": null,
            "_view_module": "@jupyter-widgets/base",
            "_view_module_version": "1.2.0",
            "_view_name": "StyleView",
            "bar_color": null,
            "description_width": ""
          }
        },
        "e6cbcfefd396455b8124b03590a46dc4": {
          "model_module": "@jupyter-widgets/base",
          "model_name": "LayoutModel",
          "model_module_version": "1.2.0",
          "state": {
            "_model_module": "@jupyter-widgets/base",
            "_model_module_version": "1.2.0",
            "_model_name": "LayoutModel",
            "_view_count": null,
            "_view_module": "@jupyter-widgets/base",
            "_view_module_version": "1.2.0",
            "_view_name": "LayoutView",
            "align_content": null,
            "align_items": null,
            "align_self": null,
            "border": null,
            "bottom": null,
            "display": null,
            "flex": null,
            "flex_flow": null,
            "grid_area": null,
            "grid_auto_columns": null,
            "grid_auto_flow": null,
            "grid_auto_rows": null,
            "grid_column": null,
            "grid_gap": null,
            "grid_row": null,
            "grid_template_areas": null,
            "grid_template_columns": null,
            "grid_template_rows": null,
            "height": null,
            "justify_content": null,
            "justify_items": null,
            "left": null,
            "margin": null,
            "max_height": null,
            "max_width": null,
            "min_height": null,
            "min_width": null,
            "object_fit": null,
            "object_position": null,
            "order": null,
            "overflow": null,
            "overflow_x": null,
            "overflow_y": null,
            "padding": null,
            "right": null,
            "top": null,
            "visibility": null,
            "width": null
          }
        },
        "883b912e26b7497da9c1f4867e000170": {
          "model_module": "@jupyter-widgets/controls",
          "model_name": "DescriptionStyleModel",
          "model_module_version": "1.5.0",
          "state": {
            "_model_module": "@jupyter-widgets/controls",
            "_model_module_version": "1.5.0",
            "_model_name": "DescriptionStyleModel",
            "_view_count": null,
            "_view_module": "@jupyter-widgets/base",
            "_view_module_version": "1.2.0",
            "_view_name": "StyleView",
            "description_width": ""
          }
        },
        "c8b63948d59e46a1adabe092a887e942": {
          "model_module": "@jupyter-widgets/controls",
          "model_name": "HBoxModel",
          "model_module_version": "1.5.0",
          "state": {
            "_dom_classes": [],
            "_model_module": "@jupyter-widgets/controls",
            "_model_module_version": "1.5.0",
            "_model_name": "HBoxModel",
            "_view_count": null,
            "_view_module": "@jupyter-widgets/controls",
            "_view_module_version": "1.5.0",
            "_view_name": "HBoxView",
            "box_style": "",
            "children": [
              "IPY_MODEL_c823607dc5c1476993126d4c3ff2ba63",
              "IPY_MODEL_d52510fba4c84ebc8038d036c03dad3c",
              "IPY_MODEL_f24bf56c079b4b3ca7ee2b0b3e499428"
            ],
            "layout": "IPY_MODEL_2207079e25f747b98352cf7b4fe4b578"
          }
        },
        "c823607dc5c1476993126d4c3ff2ba63": {
          "model_module": "@jupyter-widgets/controls",
          "model_name": "HTMLModel",
          "model_module_version": "1.5.0",
          "state": {
            "_dom_classes": [],
            "_model_module": "@jupyter-widgets/controls",
            "_model_module_version": "1.5.0",
            "_model_name": "HTMLModel",
            "_view_count": null,
            "_view_module": "@jupyter-widgets/controls",
            "_view_module_version": "1.5.0",
            "_view_name": "HTMLView",
            "description": "",
            "description_tooltip": null,
            "layout": "IPY_MODEL_7283cda8d35146babcc7d471d530defb",
            "placeholder": "​",
            "style": "IPY_MODEL_e159e686c29f4f2f85addf413bf7222b",
            "value": "model.safetensors: 100%"
          }
        },
        "d52510fba4c84ebc8038d036c03dad3c": {
          "model_module": "@jupyter-widgets/controls",
          "model_name": "FloatProgressModel",
          "model_module_version": "1.5.0",
          "state": {
            "_dom_classes": [],
            "_model_module": "@jupyter-widgets/controls",
            "_model_module_version": "1.5.0",
            "_model_name": "FloatProgressModel",
            "_view_count": null,
            "_view_module": "@jupyter-widgets/controls",
            "_view_module_version": "1.5.0",
            "_view_name": "ProgressView",
            "bar_style": "success",
            "description": "",
            "description_tooltip": null,
            "layout": "IPY_MODEL_d1eca8f5831d44aeaabc620c5a584976",
            "max": 267954768,
            "min": 0,
            "orientation": "horizontal",
            "style": "IPY_MODEL_f84e75eaa4a944138935f8db23122a72",
            "value": 267954768
          }
        },
        "f24bf56c079b4b3ca7ee2b0b3e499428": {
          "model_module": "@jupyter-widgets/controls",
          "model_name": "HTMLModel",
          "model_module_version": "1.5.0",
          "state": {
            "_dom_classes": [],
            "_model_module": "@jupyter-widgets/controls",
            "_model_module_version": "1.5.0",
            "_model_name": "HTMLModel",
            "_view_count": null,
            "_view_module": "@jupyter-widgets/controls",
            "_view_module_version": "1.5.0",
            "_view_name": "HTMLView",
            "description": "",
            "description_tooltip": null,
            "layout": "IPY_MODEL_ce87bc9c740447c4b5dd01734f8748a4",
            "placeholder": "​",
            "style": "IPY_MODEL_af383ac6491444ba92cbebc8c61ffa01",
            "value": " 268M/268M [00:01&lt;00:00, 285MB/s]"
          }
        },
        "2207079e25f747b98352cf7b4fe4b578": {
          "model_module": "@jupyter-widgets/base",
          "model_name": "LayoutModel",
          "model_module_version": "1.2.0",
          "state": {
            "_model_module": "@jupyter-widgets/base",
            "_model_module_version": "1.2.0",
            "_model_name": "LayoutModel",
            "_view_count": null,
            "_view_module": "@jupyter-widgets/base",
            "_view_module_version": "1.2.0",
            "_view_name": "LayoutView",
            "align_content": null,
            "align_items": null,
            "align_self": null,
            "border": null,
            "bottom": null,
            "display": null,
            "flex": null,
            "flex_flow": null,
            "grid_area": null,
            "grid_auto_columns": null,
            "grid_auto_flow": null,
            "grid_auto_rows": null,
            "grid_column": null,
            "grid_gap": null,
            "grid_row": null,
            "grid_template_areas": null,
            "grid_template_columns": null,
            "grid_template_rows": null,
            "height": null,
            "justify_content": null,
            "justify_items": null,
            "left": null,
            "margin": null,
            "max_height": null,
            "max_width": null,
            "min_height": null,
            "min_width": null,
            "object_fit": null,
            "object_position": null,
            "order": null,
            "overflow": null,
            "overflow_x": null,
            "overflow_y": null,
            "padding": null,
            "right": null,
            "top": null,
            "visibility": null,
            "width": null
          }
        },
        "7283cda8d35146babcc7d471d530defb": {
          "model_module": "@jupyter-widgets/base",
          "model_name": "LayoutModel",
          "model_module_version": "1.2.0",
          "state": {
            "_model_module": "@jupyter-widgets/base",
            "_model_module_version": "1.2.0",
            "_model_name": "LayoutModel",
            "_view_count": null,
            "_view_module": "@jupyter-widgets/base",
            "_view_module_version": "1.2.0",
            "_view_name": "LayoutView",
            "align_content": null,
            "align_items": null,
            "align_self": null,
            "border": null,
            "bottom": null,
            "display": null,
            "flex": null,
            "flex_flow": null,
            "grid_area": null,
            "grid_auto_columns": null,
            "grid_auto_flow": null,
            "grid_auto_rows": null,
            "grid_column": null,
            "grid_gap": null,
            "grid_row": null,
            "grid_template_areas": null,
            "grid_template_columns": null,
            "grid_template_rows": null,
            "height": null,
            "justify_content": null,
            "justify_items": null,
            "left": null,
            "margin": null,
            "max_height": null,
            "max_width": null,
            "min_height": null,
            "min_width": null,
            "object_fit": null,
            "object_position": null,
            "order": null,
            "overflow": null,
            "overflow_x": null,
            "overflow_y": null,
            "padding": null,
            "right": null,
            "top": null,
            "visibility": null,
            "width": null
          }
        },
        "e159e686c29f4f2f85addf413bf7222b": {
          "model_module": "@jupyter-widgets/controls",
          "model_name": "DescriptionStyleModel",
          "model_module_version": "1.5.0",
          "state": {
            "_model_module": "@jupyter-widgets/controls",
            "_model_module_version": "1.5.0",
            "_model_name": "DescriptionStyleModel",
            "_view_count": null,
            "_view_module": "@jupyter-widgets/base",
            "_view_module_version": "1.2.0",
            "_view_name": "StyleView",
            "description_width": ""
          }
        },
        "d1eca8f5831d44aeaabc620c5a584976": {
          "model_module": "@jupyter-widgets/base",
          "model_name": "LayoutModel",
          "model_module_version": "1.2.0",
          "state": {
            "_model_module": "@jupyter-widgets/base",
            "_model_module_version": "1.2.0",
            "_model_name": "LayoutModel",
            "_view_count": null,
            "_view_module": "@jupyter-widgets/base",
            "_view_module_version": "1.2.0",
            "_view_name": "LayoutView",
            "align_content": null,
            "align_items": null,
            "align_self": null,
            "border": null,
            "bottom": null,
            "display": null,
            "flex": null,
            "flex_flow": null,
            "grid_area": null,
            "grid_auto_columns": null,
            "grid_auto_flow": null,
            "grid_auto_rows": null,
            "grid_column": null,
            "grid_gap": null,
            "grid_row": null,
            "grid_template_areas": null,
            "grid_template_columns": null,
            "grid_template_rows": null,
            "height": null,
            "justify_content": null,
            "justify_items": null,
            "left": null,
            "margin": null,
            "max_height": null,
            "max_width": null,
            "min_height": null,
            "min_width": null,
            "object_fit": null,
            "object_position": null,
            "order": null,
            "overflow": null,
            "overflow_x": null,
            "overflow_y": null,
            "padding": null,
            "right": null,
            "top": null,
            "visibility": null,
            "width": null
          }
        },
        "f84e75eaa4a944138935f8db23122a72": {
          "model_module": "@jupyter-widgets/controls",
          "model_name": "ProgressStyleModel",
          "model_module_version": "1.5.0",
          "state": {
            "_model_module": "@jupyter-widgets/controls",
            "_model_module_version": "1.5.0",
            "_model_name": "ProgressStyleModel",
            "_view_count": null,
            "_view_module": "@jupyter-widgets/base",
            "_view_module_version": "1.2.0",
            "_view_name": "StyleView",
            "bar_color": null,
            "description_width": ""
          }
        },
        "ce87bc9c740447c4b5dd01734f8748a4": {
          "model_module": "@jupyter-widgets/base",
          "model_name": "LayoutModel",
          "model_module_version": "1.2.0",
          "state": {
            "_model_module": "@jupyter-widgets/base",
            "_model_module_version": "1.2.0",
            "_model_name": "LayoutModel",
            "_view_count": null,
            "_view_module": "@jupyter-widgets/base",
            "_view_module_version": "1.2.0",
            "_view_name": "LayoutView",
            "align_content": null,
            "align_items": null,
            "align_self": null,
            "border": null,
            "bottom": null,
            "display": null,
            "flex": null,
            "flex_flow": null,
            "grid_area": null,
            "grid_auto_columns": null,
            "grid_auto_flow": null,
            "grid_auto_rows": null,
            "grid_column": null,
            "grid_gap": null,
            "grid_row": null,
            "grid_template_areas": null,
            "grid_template_columns": null,
            "grid_template_rows": null,
            "height": null,
            "justify_content": null,
            "justify_items": null,
            "left": null,
            "margin": null,
            "max_height": null,
            "max_width": null,
            "min_height": null,
            "min_width": null,
            "object_fit": null,
            "object_position": null,
            "order": null,
            "overflow": null,
            "overflow_x": null,
            "overflow_y": null,
            "padding": null,
            "right": null,
            "top": null,
            "visibility": null,
            "width": null
          }
        },
        "af383ac6491444ba92cbebc8c61ffa01": {
          "model_module": "@jupyter-widgets/controls",
          "model_name": "DescriptionStyleModel",
          "model_module_version": "1.5.0",
          "state": {
            "_model_module": "@jupyter-widgets/controls",
            "_model_module_version": "1.5.0",
            "_model_name": "DescriptionStyleModel",
            "_view_count": null,
            "_view_module": "@jupyter-widgets/base",
            "_view_module_version": "1.2.0",
            "_view_name": "StyleView",
            "description_width": ""
          }
        },
        "57bc6e271cea40cc99ec42ec6c6d283a": {
          "model_module": "@jupyter-widgets/controls",
          "model_name": "HBoxModel",
          "model_module_version": "1.5.0",
          "state": {
            "_dom_classes": [],
            "_model_module": "@jupyter-widgets/controls",
            "_model_module_version": "1.5.0",
            "_model_name": "HBoxModel",
            "_view_count": null,
            "_view_module": "@jupyter-widgets/controls",
            "_view_module_version": "1.5.0",
            "_view_name": "HBoxView",
            "box_style": "",
            "children": [
              "IPY_MODEL_6104c041a7d64f7cbca9c9a872c987f4",
              "IPY_MODEL_10ad5c413f7f438cb3655f8244c237e5",
              "IPY_MODEL_bb91acebd8d248bf8cd7caf25a9421cd"
            ],
            "layout": "IPY_MODEL_b901616c4f2344a79fffe93bb8681229"
          }
        },
        "6104c041a7d64f7cbca9c9a872c987f4": {
          "model_module": "@jupyter-widgets/controls",
          "model_name": "HTMLModel",
          "model_module_version": "1.5.0",
          "state": {
            "_dom_classes": [],
            "_model_module": "@jupyter-widgets/controls",
            "_model_module_version": "1.5.0",
            "_model_name": "HTMLModel",
            "_view_count": null,
            "_view_module": "@jupyter-widgets/controls",
            "_view_module_version": "1.5.0",
            "_view_name": "HTMLView",
            "description": "",
            "description_tooltip": null,
            "layout": "IPY_MODEL_5f43aea2c6f34160b2c7dafd529c4994",
            "placeholder": "​",
            "style": "IPY_MODEL_62086d4ee61f445a92d9f7f86e5d4069",
            "value": "tokenizer_config.json: 100%"
          }
        },
        "10ad5c413f7f438cb3655f8244c237e5": {
          "model_module": "@jupyter-widgets/controls",
          "model_name": "FloatProgressModel",
          "model_module_version": "1.5.0",
          "state": {
            "_dom_classes": [],
            "_model_module": "@jupyter-widgets/controls",
            "_model_module_version": "1.5.0",
            "_model_name": "FloatProgressModel",
            "_view_count": null,
            "_view_module": "@jupyter-widgets/controls",
            "_view_module_version": "1.5.0",
            "_view_name": "ProgressView",
            "bar_style": "success",
            "description": "",
            "description_tooltip": null,
            "layout": "IPY_MODEL_9695e44c0b9b48d68b758c760d920e03",
            "max": 48,
            "min": 0,
            "orientation": "horizontal",
            "style": "IPY_MODEL_db47653994d24d32a8233e293ea8f23c",
            "value": 48
          }
        },
        "bb91acebd8d248bf8cd7caf25a9421cd": {
          "model_module": "@jupyter-widgets/controls",
          "model_name": "HTMLModel",
          "model_module_version": "1.5.0",
          "state": {
            "_dom_classes": [],
            "_model_module": "@jupyter-widgets/controls",
            "_model_module_version": "1.5.0",
            "_model_name": "HTMLModel",
            "_view_count": null,
            "_view_module": "@jupyter-widgets/controls",
            "_view_module_version": "1.5.0",
            "_view_name": "HTMLView",
            "description": "",
            "description_tooltip": null,
            "layout": "IPY_MODEL_53ce6c0a89144173acb2d2dd6d9e5c78",
            "placeholder": "​",
            "style": "IPY_MODEL_82b9417d60534a039123be2c2edc45e3",
            "value": " 48.0/48.0 [00:00&lt;00:00, 4.49kB/s]"
          }
        },
        "b901616c4f2344a79fffe93bb8681229": {
          "model_module": "@jupyter-widgets/base",
          "model_name": "LayoutModel",
          "model_module_version": "1.2.0",
          "state": {
            "_model_module": "@jupyter-widgets/base",
            "_model_module_version": "1.2.0",
            "_model_name": "LayoutModel",
            "_view_count": null,
            "_view_module": "@jupyter-widgets/base",
            "_view_module_version": "1.2.0",
            "_view_name": "LayoutView",
            "align_content": null,
            "align_items": null,
            "align_self": null,
            "border": null,
            "bottom": null,
            "display": null,
            "flex": null,
            "flex_flow": null,
            "grid_area": null,
            "grid_auto_columns": null,
            "grid_auto_flow": null,
            "grid_auto_rows": null,
            "grid_column": null,
            "grid_gap": null,
            "grid_row": null,
            "grid_template_areas": null,
            "grid_template_columns": null,
            "grid_template_rows": null,
            "height": null,
            "justify_content": null,
            "justify_items": null,
            "left": null,
            "margin": null,
            "max_height": null,
            "max_width": null,
            "min_height": null,
            "min_width": null,
            "object_fit": null,
            "object_position": null,
            "order": null,
            "overflow": null,
            "overflow_x": null,
            "overflow_y": null,
            "padding": null,
            "right": null,
            "top": null,
            "visibility": null,
            "width": null
          }
        },
        "5f43aea2c6f34160b2c7dafd529c4994": {
          "model_module": "@jupyter-widgets/base",
          "model_name": "LayoutModel",
          "model_module_version": "1.2.0",
          "state": {
            "_model_module": "@jupyter-widgets/base",
            "_model_module_version": "1.2.0",
            "_model_name": "LayoutModel",
            "_view_count": null,
            "_view_module": "@jupyter-widgets/base",
            "_view_module_version": "1.2.0",
            "_view_name": "LayoutView",
            "align_content": null,
            "align_items": null,
            "align_self": null,
            "border": null,
            "bottom": null,
            "display": null,
            "flex": null,
            "flex_flow": null,
            "grid_area": null,
            "grid_auto_columns": null,
            "grid_auto_flow": null,
            "grid_auto_rows": null,
            "grid_column": null,
            "grid_gap": null,
            "grid_row": null,
            "grid_template_areas": null,
            "grid_template_columns": null,
            "grid_template_rows": null,
            "height": null,
            "justify_content": null,
            "justify_items": null,
            "left": null,
            "margin": null,
            "max_height": null,
            "max_width": null,
            "min_height": null,
            "min_width": null,
            "object_fit": null,
            "object_position": null,
            "order": null,
            "overflow": null,
            "overflow_x": null,
            "overflow_y": null,
            "padding": null,
            "right": null,
            "top": null,
            "visibility": null,
            "width": null
          }
        },
        "62086d4ee61f445a92d9f7f86e5d4069": {
          "model_module": "@jupyter-widgets/controls",
          "model_name": "DescriptionStyleModel",
          "model_module_version": "1.5.0",
          "state": {
            "_model_module": "@jupyter-widgets/controls",
            "_model_module_version": "1.5.0",
            "_model_name": "DescriptionStyleModel",
            "_view_count": null,
            "_view_module": "@jupyter-widgets/base",
            "_view_module_version": "1.2.0",
            "_view_name": "StyleView",
            "description_width": ""
          }
        },
        "9695e44c0b9b48d68b758c760d920e03": {
          "model_module": "@jupyter-widgets/base",
          "model_name": "LayoutModel",
          "model_module_version": "1.2.0",
          "state": {
            "_model_module": "@jupyter-widgets/base",
            "_model_module_version": "1.2.0",
            "_model_name": "LayoutModel",
            "_view_count": null,
            "_view_module": "@jupyter-widgets/base",
            "_view_module_version": "1.2.0",
            "_view_name": "LayoutView",
            "align_content": null,
            "align_items": null,
            "align_self": null,
            "border": null,
            "bottom": null,
            "display": null,
            "flex": null,
            "flex_flow": null,
            "grid_area": null,
            "grid_auto_columns": null,
            "grid_auto_flow": null,
            "grid_auto_rows": null,
            "grid_column": null,
            "grid_gap": null,
            "grid_row": null,
            "grid_template_areas": null,
            "grid_template_columns": null,
            "grid_template_rows": null,
            "height": null,
            "justify_content": null,
            "justify_items": null,
            "left": null,
            "margin": null,
            "max_height": null,
            "max_width": null,
            "min_height": null,
            "min_width": null,
            "object_fit": null,
            "object_position": null,
            "order": null,
            "overflow": null,
            "overflow_x": null,
            "overflow_y": null,
            "padding": null,
            "right": null,
            "top": null,
            "visibility": null,
            "width": null
          }
        },
        "db47653994d24d32a8233e293ea8f23c": {
          "model_module": "@jupyter-widgets/controls",
          "model_name": "ProgressStyleModel",
          "model_module_version": "1.5.0",
          "state": {
            "_model_module": "@jupyter-widgets/controls",
            "_model_module_version": "1.5.0",
            "_model_name": "ProgressStyleModel",
            "_view_count": null,
            "_view_module": "@jupyter-widgets/base",
            "_view_module_version": "1.2.0",
            "_view_name": "StyleView",
            "bar_color": null,
            "description_width": ""
          }
        },
        "53ce6c0a89144173acb2d2dd6d9e5c78": {
          "model_module": "@jupyter-widgets/base",
          "model_name": "LayoutModel",
          "model_module_version": "1.2.0",
          "state": {
            "_model_module": "@jupyter-widgets/base",
            "_model_module_version": "1.2.0",
            "_model_name": "LayoutModel",
            "_view_count": null,
            "_view_module": "@jupyter-widgets/base",
            "_view_module_version": "1.2.0",
            "_view_name": "LayoutView",
            "align_content": null,
            "align_items": null,
            "align_self": null,
            "border": null,
            "bottom": null,
            "display": null,
            "flex": null,
            "flex_flow": null,
            "grid_area": null,
            "grid_auto_columns": null,
            "grid_auto_flow": null,
            "grid_auto_rows": null,
            "grid_column": null,
            "grid_gap": null,
            "grid_row": null,
            "grid_template_areas": null,
            "grid_template_columns": null,
            "grid_template_rows": null,
            "height": null,
            "justify_content": null,
            "justify_items": null,
            "left": null,
            "margin": null,
            "max_height": null,
            "max_width": null,
            "min_height": null,
            "min_width": null,
            "object_fit": null,
            "object_position": null,
            "order": null,
            "overflow": null,
            "overflow_x": null,
            "overflow_y": null,
            "padding": null,
            "right": null,
            "top": null,
            "visibility": null,
            "width": null
          }
        },
        "82b9417d60534a039123be2c2edc45e3": {
          "model_module": "@jupyter-widgets/controls",
          "model_name": "DescriptionStyleModel",
          "model_module_version": "1.5.0",
          "state": {
            "_model_module": "@jupyter-widgets/controls",
            "_model_module_version": "1.5.0",
            "_model_name": "DescriptionStyleModel",
            "_view_count": null,
            "_view_module": "@jupyter-widgets/base",
            "_view_module_version": "1.2.0",
            "_view_name": "StyleView",
            "description_width": ""
          }
        },
        "a7d86ea1d45b42518d58fa77c9730b31": {
          "model_module": "@jupyter-widgets/controls",
          "model_name": "HBoxModel",
          "model_module_version": "1.5.0",
          "state": {
            "_dom_classes": [],
            "_model_module": "@jupyter-widgets/controls",
            "_model_module_version": "1.5.0",
            "_model_name": "HBoxModel",
            "_view_count": null,
            "_view_module": "@jupyter-widgets/controls",
            "_view_module_version": "1.5.0",
            "_view_name": "HBoxView",
            "box_style": "",
            "children": [
              "IPY_MODEL_7acccd10e7a14ab0bac166d9a8878008",
              "IPY_MODEL_b1c360849a1b4bc59342dfc1c73661ef",
              "IPY_MODEL_c12c7711c7a942998618e75ef4754dc5"
            ],
            "layout": "IPY_MODEL_4e8ac2012fb44c85a9766091df622af3"
          }
        },
        "7acccd10e7a14ab0bac166d9a8878008": {
          "model_module": "@jupyter-widgets/controls",
          "model_name": "HTMLModel",
          "model_module_version": "1.5.0",
          "state": {
            "_dom_classes": [],
            "_model_module": "@jupyter-widgets/controls",
            "_model_module_version": "1.5.0",
            "_model_name": "HTMLModel",
            "_view_count": null,
            "_view_module": "@jupyter-widgets/controls",
            "_view_module_version": "1.5.0",
            "_view_name": "HTMLView",
            "description": "",
            "description_tooltip": null,
            "layout": "IPY_MODEL_87eeff506ec04d9fbee4093539073869",
            "placeholder": "​",
            "style": "IPY_MODEL_49b9bc3ecbbf4790a170cdb33acf472c",
            "value": "vocab.txt: 100%"
          }
        },
        "b1c360849a1b4bc59342dfc1c73661ef": {
          "model_module": "@jupyter-widgets/controls",
          "model_name": "FloatProgressModel",
          "model_module_version": "1.5.0",
          "state": {
            "_dom_classes": [],
            "_model_module": "@jupyter-widgets/controls",
            "_model_module_version": "1.5.0",
            "_model_name": "FloatProgressModel",
            "_view_count": null,
            "_view_module": "@jupyter-widgets/controls",
            "_view_module_version": "1.5.0",
            "_view_name": "ProgressView",
            "bar_style": "success",
            "description": "",
            "description_tooltip": null,
            "layout": "IPY_MODEL_13e839c23f484217a100bc815d3e1999",
            "max": 231508,
            "min": 0,
            "orientation": "horizontal",
            "style": "IPY_MODEL_4770491947dc4091911c76c3ee54bbb2",
            "value": 231508
          }
        },
        "c12c7711c7a942998618e75ef4754dc5": {
          "model_module": "@jupyter-widgets/controls",
          "model_name": "HTMLModel",
          "model_module_version": "1.5.0",
          "state": {
            "_dom_classes": [],
            "_model_module": "@jupyter-widgets/controls",
            "_model_module_version": "1.5.0",
            "_model_name": "HTMLModel",
            "_view_count": null,
            "_view_module": "@jupyter-widgets/controls",
            "_view_module_version": "1.5.0",
            "_view_name": "HTMLView",
            "description": "",
            "description_tooltip": null,
            "layout": "IPY_MODEL_9f16549a145945ec97f6a6c92dc0612b",
            "placeholder": "​",
            "style": "IPY_MODEL_7d645907fee24a2998698cf4b4a5f030",
            "value": " 232k/232k [00:00&lt;00:00, 1.53MB/s]"
          }
        },
        "4e8ac2012fb44c85a9766091df622af3": {
          "model_module": "@jupyter-widgets/base",
          "model_name": "LayoutModel",
          "model_module_version": "1.2.0",
          "state": {
            "_model_module": "@jupyter-widgets/base",
            "_model_module_version": "1.2.0",
            "_model_name": "LayoutModel",
            "_view_count": null,
            "_view_module": "@jupyter-widgets/base",
            "_view_module_version": "1.2.0",
            "_view_name": "LayoutView",
            "align_content": null,
            "align_items": null,
            "align_self": null,
            "border": null,
            "bottom": null,
            "display": null,
            "flex": null,
            "flex_flow": null,
            "grid_area": null,
            "grid_auto_columns": null,
            "grid_auto_flow": null,
            "grid_auto_rows": null,
            "grid_column": null,
            "grid_gap": null,
            "grid_row": null,
            "grid_template_areas": null,
            "grid_template_columns": null,
            "grid_template_rows": null,
            "height": null,
            "justify_content": null,
            "justify_items": null,
            "left": null,
            "margin": null,
            "max_height": null,
            "max_width": null,
            "min_height": null,
            "min_width": null,
            "object_fit": null,
            "object_position": null,
            "order": null,
            "overflow": null,
            "overflow_x": null,
            "overflow_y": null,
            "padding": null,
            "right": null,
            "top": null,
            "visibility": null,
            "width": null
          }
        },
        "87eeff506ec04d9fbee4093539073869": {
          "model_module": "@jupyter-widgets/base",
          "model_name": "LayoutModel",
          "model_module_version": "1.2.0",
          "state": {
            "_model_module": "@jupyter-widgets/base",
            "_model_module_version": "1.2.0",
            "_model_name": "LayoutModel",
            "_view_count": null,
            "_view_module": "@jupyter-widgets/base",
            "_view_module_version": "1.2.0",
            "_view_name": "LayoutView",
            "align_content": null,
            "align_items": null,
            "align_self": null,
            "border": null,
            "bottom": null,
            "display": null,
            "flex": null,
            "flex_flow": null,
            "grid_area": null,
            "grid_auto_columns": null,
            "grid_auto_flow": null,
            "grid_auto_rows": null,
            "grid_column": null,
            "grid_gap": null,
            "grid_row": null,
            "grid_template_areas": null,
            "grid_template_columns": null,
            "grid_template_rows": null,
            "height": null,
            "justify_content": null,
            "justify_items": null,
            "left": null,
            "margin": null,
            "max_height": null,
            "max_width": null,
            "min_height": null,
            "min_width": null,
            "object_fit": null,
            "object_position": null,
            "order": null,
            "overflow": null,
            "overflow_x": null,
            "overflow_y": null,
            "padding": null,
            "right": null,
            "top": null,
            "visibility": null,
            "width": null
          }
        },
        "49b9bc3ecbbf4790a170cdb33acf472c": {
          "model_module": "@jupyter-widgets/controls",
          "model_name": "DescriptionStyleModel",
          "model_module_version": "1.5.0",
          "state": {
            "_model_module": "@jupyter-widgets/controls",
            "_model_module_version": "1.5.0",
            "_model_name": "DescriptionStyleModel",
            "_view_count": null,
            "_view_module": "@jupyter-widgets/base",
            "_view_module_version": "1.2.0",
            "_view_name": "StyleView",
            "description_width": ""
          }
        },
        "13e839c23f484217a100bc815d3e1999": {
          "model_module": "@jupyter-widgets/base",
          "model_name": "LayoutModel",
          "model_module_version": "1.2.0",
          "state": {
            "_model_module": "@jupyter-widgets/base",
            "_model_module_version": "1.2.0",
            "_model_name": "LayoutModel",
            "_view_count": null,
            "_view_module": "@jupyter-widgets/base",
            "_view_module_version": "1.2.0",
            "_view_name": "LayoutView",
            "align_content": null,
            "align_items": null,
            "align_self": null,
            "border": null,
            "bottom": null,
            "display": null,
            "flex": null,
            "flex_flow": null,
            "grid_area": null,
            "grid_auto_columns": null,
            "grid_auto_flow": null,
            "grid_auto_rows": null,
            "grid_column": null,
            "grid_gap": null,
            "grid_row": null,
            "grid_template_areas": null,
            "grid_template_columns": null,
            "grid_template_rows": null,
            "height": null,
            "justify_content": null,
            "justify_items": null,
            "left": null,
            "margin": null,
            "max_height": null,
            "max_width": null,
            "min_height": null,
            "min_width": null,
            "object_fit": null,
            "object_position": null,
            "order": null,
            "overflow": null,
            "overflow_x": null,
            "overflow_y": null,
            "padding": null,
            "right": null,
            "top": null,
            "visibility": null,
            "width": null
          }
        },
        "4770491947dc4091911c76c3ee54bbb2": {
          "model_module": "@jupyter-widgets/controls",
          "model_name": "ProgressStyleModel",
          "model_module_version": "1.5.0",
          "state": {
            "_model_module": "@jupyter-widgets/controls",
            "_model_module_version": "1.5.0",
            "_model_name": "ProgressStyleModel",
            "_view_count": null,
            "_view_module": "@jupyter-widgets/base",
            "_view_module_version": "1.2.0",
            "_view_name": "StyleView",
            "bar_color": null,
            "description_width": ""
          }
        },
        "9f16549a145945ec97f6a6c92dc0612b": {
          "model_module": "@jupyter-widgets/base",
          "model_name": "LayoutModel",
          "model_module_version": "1.2.0",
          "state": {
            "_model_module": "@jupyter-widgets/base",
            "_model_module_version": "1.2.0",
            "_model_name": "LayoutModel",
            "_view_count": null,
            "_view_module": "@jupyter-widgets/base",
            "_view_module_version": "1.2.0",
            "_view_name": "LayoutView",
            "align_content": null,
            "align_items": null,
            "align_self": null,
            "border": null,
            "bottom": null,
            "display": null,
            "flex": null,
            "flex_flow": null,
            "grid_area": null,
            "grid_auto_columns": null,
            "grid_auto_flow": null,
            "grid_auto_rows": null,
            "grid_column": null,
            "grid_gap": null,
            "grid_row": null,
            "grid_template_areas": null,
            "grid_template_columns": null,
            "grid_template_rows": null,
            "height": null,
            "justify_content": null,
            "justify_items": null,
            "left": null,
            "margin": null,
            "max_height": null,
            "max_width": null,
            "min_height": null,
            "min_width": null,
            "object_fit": null,
            "object_position": null,
            "order": null,
            "overflow": null,
            "overflow_x": null,
            "overflow_y": null,
            "padding": null,
            "right": null,
            "top": null,
            "visibility": null,
            "width": null
          }
        },
        "7d645907fee24a2998698cf4b4a5f030": {
          "model_module": "@jupyter-widgets/controls",
          "model_name": "DescriptionStyleModel",
          "model_module_version": "1.5.0",
          "state": {
            "_model_module": "@jupyter-widgets/controls",
            "_model_module_version": "1.5.0",
            "_model_name": "DescriptionStyleModel",
            "_view_count": null,
            "_view_module": "@jupyter-widgets/base",
            "_view_module_version": "1.2.0",
            "_view_name": "StyleView",
            "description_width": ""
          }
        },
        "794777f3e7c54618a7ff7d7e33a4d2d9": {
          "model_module": "@jupyter-widgets/controls",
          "model_name": "HBoxModel",
          "model_module_version": "1.5.0",
          "state": {
            "_dom_classes": [],
            "_model_module": "@jupyter-widgets/controls",
            "_model_module_version": "1.5.0",
            "_model_name": "HBoxModel",
            "_view_count": null,
            "_view_module": "@jupyter-widgets/controls",
            "_view_module_version": "1.5.0",
            "_view_name": "HBoxView",
            "box_style": "",
            "children": [
              "IPY_MODEL_be4ba1f42ce64113931d01233c1c4ffb",
              "IPY_MODEL_d307887ad01f4f1cbf627d7bd4701a8f",
              "IPY_MODEL_ab6b6a3458a6419295bfaf77489a77f6"
            ],
            "layout": "IPY_MODEL_02f960549e7942bf81ebd60fab61acb5"
          }
        },
        "be4ba1f42ce64113931d01233c1c4ffb": {
          "model_module": "@jupyter-widgets/controls",
          "model_name": "HTMLModel",
          "model_module_version": "1.5.0",
          "state": {
            "_dom_classes": [],
            "_model_module": "@jupyter-widgets/controls",
            "_model_module_version": "1.5.0",
            "_model_name": "HTMLModel",
            "_view_count": null,
            "_view_module": "@jupyter-widgets/controls",
            "_view_module_version": "1.5.0",
            "_view_name": "HTMLView",
            "description": "",
            "description_tooltip": null,
            "layout": "IPY_MODEL_922a7782ed54464b8a2ac62ace6babf8",
            "placeholder": "​",
            "style": "IPY_MODEL_722f8040d4bd4b7398f7a064cc9cece0",
            "value": "tokenizer.json: 100%"
          }
        },
        "d307887ad01f4f1cbf627d7bd4701a8f": {
          "model_module": "@jupyter-widgets/controls",
          "model_name": "FloatProgressModel",
          "model_module_version": "1.5.0",
          "state": {
            "_dom_classes": [],
            "_model_module": "@jupyter-widgets/controls",
            "_model_module_version": "1.5.0",
            "_model_name": "FloatProgressModel",
            "_view_count": null,
            "_view_module": "@jupyter-widgets/controls",
            "_view_module_version": "1.5.0",
            "_view_name": "ProgressView",
            "bar_style": "success",
            "description": "",
            "description_tooltip": null,
            "layout": "IPY_MODEL_aeb9a5e29f0546c6b7a6d441c41a2e3e",
            "max": 466062,
            "min": 0,
            "orientation": "horizontal",
            "style": "IPY_MODEL_902f9f15a5e042e2b7e056a088afd0db",
            "value": 466062
          }
        },
        "ab6b6a3458a6419295bfaf77489a77f6": {
          "model_module": "@jupyter-widgets/controls",
          "model_name": "HTMLModel",
          "model_module_version": "1.5.0",
          "state": {
            "_dom_classes": [],
            "_model_module": "@jupyter-widgets/controls",
            "_model_module_version": "1.5.0",
            "_model_name": "HTMLModel",
            "_view_count": null,
            "_view_module": "@jupyter-widgets/controls",
            "_view_module_version": "1.5.0",
            "_view_name": "HTMLView",
            "description": "",
            "description_tooltip": null,
            "layout": "IPY_MODEL_b3419d0c5de24ef69eaa3859c98abb4d",
            "placeholder": "​",
            "style": "IPY_MODEL_7b7d97485b09453cbf442170bbf50955",
            "value": " 466k/466k [00:00&lt;00:00, 31.3MB/s]"
          }
        },
        "02f960549e7942bf81ebd60fab61acb5": {
          "model_module": "@jupyter-widgets/base",
          "model_name": "LayoutModel",
          "model_module_version": "1.2.0",
          "state": {
            "_model_module": "@jupyter-widgets/base",
            "_model_module_version": "1.2.0",
            "_model_name": "LayoutModel",
            "_view_count": null,
            "_view_module": "@jupyter-widgets/base",
            "_view_module_version": "1.2.0",
            "_view_name": "LayoutView",
            "align_content": null,
            "align_items": null,
            "align_self": null,
            "border": null,
            "bottom": null,
            "display": null,
            "flex": null,
            "flex_flow": null,
            "grid_area": null,
            "grid_auto_columns": null,
            "grid_auto_flow": null,
            "grid_auto_rows": null,
            "grid_column": null,
            "grid_gap": null,
            "grid_row": null,
            "grid_template_areas": null,
            "grid_template_columns": null,
            "grid_template_rows": null,
            "height": null,
            "justify_content": null,
            "justify_items": null,
            "left": null,
            "margin": null,
            "max_height": null,
            "max_width": null,
            "min_height": null,
            "min_width": null,
            "object_fit": null,
            "object_position": null,
            "order": null,
            "overflow": null,
            "overflow_x": null,
            "overflow_y": null,
            "padding": null,
            "right": null,
            "top": null,
            "visibility": null,
            "width": null
          }
        },
        "922a7782ed54464b8a2ac62ace6babf8": {
          "model_module": "@jupyter-widgets/base",
          "model_name": "LayoutModel",
          "model_module_version": "1.2.0",
          "state": {
            "_model_module": "@jupyter-widgets/base",
            "_model_module_version": "1.2.0",
            "_model_name": "LayoutModel",
            "_view_count": null,
            "_view_module": "@jupyter-widgets/base",
            "_view_module_version": "1.2.0",
            "_view_name": "LayoutView",
            "align_content": null,
            "align_items": null,
            "align_self": null,
            "border": null,
            "bottom": null,
            "display": null,
            "flex": null,
            "flex_flow": null,
            "grid_area": null,
            "grid_auto_columns": null,
            "grid_auto_flow": null,
            "grid_auto_rows": null,
            "grid_column": null,
            "grid_gap": null,
            "grid_row": null,
            "grid_template_areas": null,
            "grid_template_columns": null,
            "grid_template_rows": null,
            "height": null,
            "justify_content": null,
            "justify_items": null,
            "left": null,
            "margin": null,
            "max_height": null,
            "max_width": null,
            "min_height": null,
            "min_width": null,
            "object_fit": null,
            "object_position": null,
            "order": null,
            "overflow": null,
            "overflow_x": null,
            "overflow_y": null,
            "padding": null,
            "right": null,
            "top": null,
            "visibility": null,
            "width": null
          }
        },
        "722f8040d4bd4b7398f7a064cc9cece0": {
          "model_module": "@jupyter-widgets/controls",
          "model_name": "DescriptionStyleModel",
          "model_module_version": "1.5.0",
          "state": {
            "_model_module": "@jupyter-widgets/controls",
            "_model_module_version": "1.5.0",
            "_model_name": "DescriptionStyleModel",
            "_view_count": null,
            "_view_module": "@jupyter-widgets/base",
            "_view_module_version": "1.2.0",
            "_view_name": "StyleView",
            "description_width": ""
          }
        },
        "aeb9a5e29f0546c6b7a6d441c41a2e3e": {
          "model_module": "@jupyter-widgets/base",
          "model_name": "LayoutModel",
          "model_module_version": "1.2.0",
          "state": {
            "_model_module": "@jupyter-widgets/base",
            "_model_module_version": "1.2.0",
            "_model_name": "LayoutModel",
            "_view_count": null,
            "_view_module": "@jupyter-widgets/base",
            "_view_module_version": "1.2.0",
            "_view_name": "LayoutView",
            "align_content": null,
            "align_items": null,
            "align_self": null,
            "border": null,
            "bottom": null,
            "display": null,
            "flex": null,
            "flex_flow": null,
            "grid_area": null,
            "grid_auto_columns": null,
            "grid_auto_flow": null,
            "grid_auto_rows": null,
            "grid_column": null,
            "grid_gap": null,
            "grid_row": null,
            "grid_template_areas": null,
            "grid_template_columns": null,
            "grid_template_rows": null,
            "height": null,
            "justify_content": null,
            "justify_items": null,
            "left": null,
            "margin": null,
            "max_height": null,
            "max_width": null,
            "min_height": null,
            "min_width": null,
            "object_fit": null,
            "object_position": null,
            "order": null,
            "overflow": null,
            "overflow_x": null,
            "overflow_y": null,
            "padding": null,
            "right": null,
            "top": null,
            "visibility": null,
            "width": null
          }
        },
        "902f9f15a5e042e2b7e056a088afd0db": {
          "model_module": "@jupyter-widgets/controls",
          "model_name": "ProgressStyleModel",
          "model_module_version": "1.5.0",
          "state": {
            "_model_module": "@jupyter-widgets/controls",
            "_model_module_version": "1.5.0",
            "_model_name": "ProgressStyleModel",
            "_view_count": null,
            "_view_module": "@jupyter-widgets/base",
            "_view_module_version": "1.2.0",
            "_view_name": "StyleView",
            "bar_color": null,
            "description_width": ""
          }
        },
        "b3419d0c5de24ef69eaa3859c98abb4d": {
          "model_module": "@jupyter-widgets/base",
          "model_name": "LayoutModel",
          "model_module_version": "1.2.0",
          "state": {
            "_model_module": "@jupyter-widgets/base",
            "_model_module_version": "1.2.0",
            "_model_name": "LayoutModel",
            "_view_count": null,
            "_view_module": "@jupyter-widgets/base",
            "_view_module_version": "1.2.0",
            "_view_name": "LayoutView",
            "align_content": null,
            "align_items": null,
            "align_self": null,
            "border": null,
            "bottom": null,
            "display": null,
            "flex": null,
            "flex_flow": null,
            "grid_area": null,
            "grid_auto_columns": null,
            "grid_auto_flow": null,
            "grid_auto_rows": null,
            "grid_column": null,
            "grid_gap": null,
            "grid_row": null,
            "grid_template_areas": null,
            "grid_template_columns": null,
            "grid_template_rows": null,
            "height": null,
            "justify_content": null,
            "justify_items": null,
            "left": null,
            "margin": null,
            "max_height": null,
            "max_width": null,
            "min_height": null,
            "min_width": null,
            "object_fit": null,
            "object_position": null,
            "order": null,
            "overflow": null,
            "overflow_x": null,
            "overflow_y": null,
            "padding": null,
            "right": null,
            "top": null,
            "visibility": null,
            "width": null
          }
        },
        "7b7d97485b09453cbf442170bbf50955": {
          "model_module": "@jupyter-widgets/controls",
          "model_name": "DescriptionStyleModel",
          "model_module_version": "1.5.0",
          "state": {
            "_model_module": "@jupyter-widgets/controls",
            "_model_module_version": "1.5.0",
            "_model_name": "DescriptionStyleModel",
            "_view_count": null,
            "_view_module": "@jupyter-widgets/base",
            "_view_module_version": "1.2.0",
            "_view_name": "StyleView",
            "description_width": ""
          }
        }
      }
    }
  },
  "nbformat": 4,
  "nbformat_minor": 0
}